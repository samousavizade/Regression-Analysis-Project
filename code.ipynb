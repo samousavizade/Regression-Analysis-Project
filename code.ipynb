{
 "cells": [
  {
   "cell_type": "markdown",
   "metadata": {},
   "source": [
    "# <center> S.Alireza Mousavizade </center>  \n",
    "## <center> 97106284 </center>\n",
    "\n",
    "## <center> Regression Analysis Project </center>\n",
    "\n",
    "---"
   ]
  },
  {
   "cell_type": "markdown",
   "metadata": {},
   "source": [
    "# Dataset Information"
   ]
  },
  {
   "cell_type": "markdown",
   "metadata": {},
   "source": [
    "This data approach student achievement in secondary education of two Portuguese schools. The data attributes include student grades, demographic, social and school related features) and it was collected by using school reports and questionnaires. Two datasets are provided regarding the performance in two distinct subjects: Mathematics (mat) and Portuguese language (por). In [Cortez and Silva, 2008], the two datasets were modeled under binary/five-level classification and regression tasks. Important note: the target attribute G3 has a strong correlation with attributes G2 and G1. This occurs because G3 is the final year grade (issued at the 3rd period), while G1 and G2 correspond to the 1st and 2nd period grades. It is more difficult to predict G3 without G2 and G1, but such prediction is much more useful (see paper source for more details).\n",
    "\n",
    "[Student Performance Dataset Source](http://archive.ics.uci.edu/ml/datasets/Student+Performance#)"
   ]
  },
  {
   "cell_type": "markdown",
   "metadata": {},
   "source": [
    "### Attribute Information:\n",
    "\n"
   ]
  },
  {
   "cell_type": "markdown",
   "metadata": {},
   "source": [
    "| Index | Attribute | Description |\n",
    "| --- | --- | --- |\n",
    "| 1 | school | student's school (binary: 'GP' - Gabriel Pereira or 'MS' - Mousinho da Silveira) |\n",
    "| 2 | sex | student's sex (binary: 'F' - female or 'M' - male) |\n",
    "|3 | age | student's age (numeric: from 15 to 22) |\n",
    "|4 | address | student's home address type (binary: 'U' - urban or 'R' - rural) | \n",
    "|5 | famsize | family size (binary: 'LE3' - less or equal to 3 or 'GT3' - greater than 3) | \n",
    "|6 | Pstatus | parent's cohabitation status (binary: 'T' - living together or 'A' - apart) | \n",
    "|7 | Medu | mother's education (numeric: 0 - none, 1 - primary education (4th grade), 2 â€“ 5th to 9th grade, 3 â€“ secondary education or 4 â€“ higher education) | \n",
    "|8 | Fedu | father's education (numeric: 0 - none, 1 - primary education (4th grade), 2 â€“ 5th to 9th grade, 3 â€“ secondary education or 4 â€“ higher education) |\n",
    "|9 | Mjob | mother's job (nominal: 'teacher', 'health' care related, civil 'services' (e.g. administrative or police), 'at_home' or 'other') | \n",
    "|10 | Fjob | father's job (nominal: 'teacher', 'health' care related, civil 'services' (e.g. administrative or police), 'at_home' or 'other') |\n",
    "|11 | reason | reason to choose this school (nominal: close to 'home', school 'reputation', 'course' preference or 'other') |\n",
    "|12 | guardian | student's guardian (nominal: 'mother', 'father' or 'other') |\n",
    "|13 | traveltime | home to school travel time (numeric: 1 - <15 min., 2 - 15 to 30 min., 3 - 30 min. to 1 hour, or 4 - >1 hour) |\n",
    "|14 | studytime | weekly study time (numeric: 1 - <2 hours, 2 - 2 to 5 hours, 3 - 5 to 10 hours, or 4 - >10 hours) |\n",
    "|15 | failures | number of past class failures (numeric: n if 1<=n<3, else 4) | \n",
    "|16 | schoolsup | extra educational support (binary: yes or no) |\n",
    "|17 | famsup | family educational support (binary: yes or no) | \n",
    "|18 | paid | extra paid classes within the course subject (Math or Portuguese) (binary: yes or no) | \n",
    "|19 | activities | extra-curricular activities (binary: yes or no) | \n",
    "|20 | nursery | attended nursery school (binary: yes or no) | \n",
    "|21 | higher | wants to take higher education (binary: yes or no) |\n",
    "|22 | internet | Internet access at home (binary: yes or no) | \n",
    "|23 | romantic | with a romantic relationship (binary: yes or no) | \n",
    "|24 | famrel | quality of family relationships (numeric: from 1 - very bad to 5 - excellent) | \n",
    "|25 | freetime | free time after school (numeric: from 1 - very low to 5 - very high) | \n",
    "|26 | goout | going out with friends (numeric: from 1 - very low to 5 - very high) | \n",
    "|27 | Dalc | workday alcohol consumption (numeric: from 1 - very low to 5 - very high) |\n",
    "|28 | Walc | weekend alcohol consumption (numeric: from 1 - very low to 5 - very high) |\n",
    "|29 | health | current health status (numeric: from 1 - very bad to 5 - very good) |\n",
    "|30 | absences | number of school absences (numeric: from 0 to 93) |\n",
    "|31 | G1 | first period grade (numeric: from 0 to 20) |\n",
    "|31 | G2 | second period grade (numeric: from 0 to 20) | \n",
    "|32 | G3 | final grade (numeric: from 0 to 20, output target) |\n"
   ]
  },
  {
   "cell_type": "markdown",
   "metadata": {},
   "source": [
    "# Introduction"
   ]
  },
  {
   "cell_type": "markdown",
   "metadata": {},
   "source": [
    "In this project, the following tasks are performed on the dataset:\n",
    "\n",
    "- Data Preprocessing:\n",
    "\n",
    "- Exploratory Data Analysis\n",
    "    - Data Visualization\n",
    "    - Data Analysis\n",
    "- Feature Engineering\n",
    "    - Null Values Imputation\n",
    "    - Feature Selection\n",
    "    - One-Hot Encoding\n",
    "    - Standardization\n",
    "    - Detect & Elimination of Multicollinearity\n",
    "    - Detect & Adjust Heteroscedasticity\n",
    "    - Feature Selection\n",
    "- Model Fitting\n",
    "    - Model\n",
    "      1. SVM\n",
    "      2. Random Forest\n",
    "      3. Logistic Regression\n",
    "    - Model\n",
    "      - SVM\n",
    "      - SVM\n",
    "    - Model\n",
    "      - SVM\n",
    "      - SVM\n",
    "- Feature Interpreation\n",
    "  - Feature \n",
    "  - Feature \n",
    "- Summary"
   ]
  },
  {
   "cell_type": "markdown",
   "metadata": {},
   "source": [
    "# Import Libraries"
   ]
  },
  {
   "cell_type": "markdown",
   "metadata": {},
   "source": [
    "In this section, required libraries are imported."
   ]
  },
  {
   "cell_type": "code",
   "execution_count": 588,
   "metadata": {},
   "outputs": [],
   "source": [
    "import numpy as np\n",
    "import pandas as pd\n",
    "\n",
    "import matplotlib.pyplot as plt\n",
    "import seaborn as sns\n",
    "\n",
    "# EDA \n",
    "import statsmodels.api as sm\n",
    "\n",
    "from sklearn.preprocessing import OneHotEncoder\n",
    "\n",
    "from sklearn.preprocessing import MinMaxScaler, StandardScaler\n",
    "\n",
    "# models\n",
    "\n",
    "# metrics\n",
    "from sklearn.metrics import r2_score, mean_squared_error, accuracy_score, f1_score\n",
    "\n",
    "# linear models\n",
    "from sklearn.linear_model import LinearRegression, LassoCV, RidgeCV, RANSACRegressor\n",
    "\n",
    "# svm\n",
    "from sklearn.model_selection import GridSearchCV\n",
    "from sklearn.svm import SVR\n",
    "\n",
    "# tree based models\n",
    "from sklearn.ensemble import RandomForestRegressor\n",
    "\n"
   ]
  },
  {
   "cell_type": "markdown",
   "metadata": {},
   "source": [
    "# Load Dataset\n",
    "\n",
    "In this section, the dataset (train & test) is loaded."
   ]
  },
  {
   "cell_type": "code",
   "execution_count": 589,
   "metadata": {},
   "outputs": [],
   "source": [
    "X_train = pd.read_csv('data/X_train.csv')\n",
    "y_train = pd.read_csv('data/y_train.csv')\n",
    "\n",
    "X_test = pd.read_csv('data/X_test.csv')\n",
    "y_test = pd.read_csv('data/test_label/y_test.csv')"
   ]
  },
  {
   "cell_type": "code",
   "execution_count": 590,
   "metadata": {},
   "outputs": [
    {
     "data": {
      "text/html": [
       "<div>\n",
       "<style scoped>\n",
       "    .dataframe tbody tr th:only-of-type {\n",
       "        vertical-align: middle;\n",
       "    }\n",
       "\n",
       "    .dataframe tbody tr th {\n",
       "        vertical-align: top;\n",
       "    }\n",
       "\n",
       "    .dataframe thead th {\n",
       "        text-align: right;\n",
       "    }\n",
       "</style>\n",
       "<table border=\"1\" class=\"dataframe\">\n",
       "  <thead>\n",
       "    <tr style=\"text-align: right;\">\n",
       "      <th></th>\n",
       "      <th>StudentID</th>\n",
       "      <th>school</th>\n",
       "      <th>sex</th>\n",
       "      <th>age</th>\n",
       "      <th>address</th>\n",
       "      <th>famsize</th>\n",
       "      <th>Pstatus</th>\n",
       "      <th>Medu</th>\n",
       "      <th>Fedu</th>\n",
       "      <th>Mjob</th>\n",
       "      <th>...</th>\n",
       "      <th>romantic</th>\n",
       "      <th>famrel</th>\n",
       "      <th>freetime</th>\n",
       "      <th>goout</th>\n",
       "      <th>Dalc</th>\n",
       "      <th>Walc</th>\n",
       "      <th>health</th>\n",
       "      <th>absences</th>\n",
       "      <th>G1</th>\n",
       "      <th>G2</th>\n",
       "    </tr>\n",
       "  </thead>\n",
       "  <tbody>\n",
       "    <tr>\n",
       "      <th>0</th>\n",
       "      <td>1714</td>\n",
       "      <td>GP</td>\n",
       "      <td>F</td>\n",
       "      <td>18</td>\n",
       "      <td>U</td>\n",
       "      <td>GT3</td>\n",
       "      <td>T</td>\n",
       "      <td>4</td>\n",
       "      <td>3</td>\n",
       "      <td>other</td>\n",
       "      <td>...</td>\n",
       "      <td>no</td>\n",
       "      <td>4</td>\n",
       "      <td>3</td>\n",
       "      <td>3</td>\n",
       "      <td>1</td>\n",
       "      <td>1</td>\n",
       "      <td>3</td>\n",
       "      <td>0</td>\n",
       "      <td>14</td>\n",
       "      <td>13</td>\n",
       "    </tr>\n",
       "    <tr>\n",
       "      <th>1</th>\n",
       "      <td>1254</td>\n",
       "      <td>GP</td>\n",
       "      <td>F</td>\n",
       "      <td>17</td>\n",
       "      <td>U</td>\n",
       "      <td>GT3</td>\n",
       "      <td>T</td>\n",
       "      <td>4</td>\n",
       "      <td>3</td>\n",
       "      <td>health</td>\n",
       "      <td>...</td>\n",
       "      <td>yes</td>\n",
       "      <td>4</td>\n",
       "      <td>4</td>\n",
       "      <td>3</td>\n",
       "      <td>1</td>\n",
       "      <td>3</td>\n",
       "      <td>4</td>\n",
       "      <td>0</td>\n",
       "      <td>13</td>\n",
       "      <td>15</td>\n",
       "    </tr>\n",
       "    <tr>\n",
       "      <th>2</th>\n",
       "      <td>1639</td>\n",
       "      <td>GP</td>\n",
       "      <td>F</td>\n",
       "      <td>16</td>\n",
       "      <td>R</td>\n",
       "      <td>GT3</td>\n",
       "      <td>T</td>\n",
       "      <td>4</td>\n",
       "      <td>4</td>\n",
       "      <td>health</td>\n",
       "      <td>...</td>\n",
       "      <td>no</td>\n",
       "      <td>2</td>\n",
       "      <td>4</td>\n",
       "      <td>4</td>\n",
       "      <td>2</td>\n",
       "      <td>3</td>\n",
       "      <td>4</td>\n",
       "      <td>6</td>\n",
       "      <td>10</td>\n",
       "      <td>11</td>\n",
       "    </tr>\n",
       "    <tr>\n",
       "      <th>3</th>\n",
       "      <td>1118</td>\n",
       "      <td>GP</td>\n",
       "      <td>M</td>\n",
       "      <td>16</td>\n",
       "      <td>U</td>\n",
       "      <td>GT3</td>\n",
       "      <td>T</td>\n",
       "      <td>4</td>\n",
       "      <td>4</td>\n",
       "      <td>services</td>\n",
       "      <td>...</td>\n",
       "      <td>no</td>\n",
       "      <td>5</td>\n",
       "      <td>3</td>\n",
       "      <td>3</td>\n",
       "      <td>1</td>\n",
       "      <td>3</td>\n",
       "      <td>5</td>\n",
       "      <td>0</td>\n",
       "      <td>15</td>\n",
       "      <td>13</td>\n",
       "    </tr>\n",
       "    <tr>\n",
       "      <th>4</th>\n",
       "      <td>1499</td>\n",
       "      <td>GP</td>\n",
       "      <td>M</td>\n",
       "      <td>19</td>\n",
       "      <td>U</td>\n",
       "      <td>GT3</td>\n",
       "      <td>T</td>\n",
       "      <td>3</td>\n",
       "      <td>2</td>\n",
       "      <td>services</td>\n",
       "      <td>...</td>\n",
       "      <td>yes</td>\n",
       "      <td>4</td>\n",
       "      <td>5</td>\n",
       "      <td>4</td>\n",
       "      <td>1</td>\n",
       "      <td>1</td>\n",
       "      <td>4</td>\n",
       "      <td>0</td>\n",
       "      <td>5</td>\n",
       "      <td>0</td>\n",
       "    </tr>\n",
       "  </tbody>\n",
       "</table>\n",
       "<p>5 rows × 33 columns</p>\n",
       "</div>"
      ],
      "text/plain": [
       "   StudentID school sex  age address famsize Pstatus  Medu  Fedu      Mjob  \\\n",
       "0       1714     GP   F   18       U     GT3       T     4     3     other   \n",
       "1       1254     GP   F   17       U     GT3       T     4     3    health   \n",
       "2       1639     GP   F   16       R     GT3       T     4     4    health   \n",
       "3       1118     GP   M   16       U     GT3       T     4     4  services   \n",
       "4       1499     GP   M   19       U     GT3       T     3     2  services   \n",
       "\n",
       "   ... romantic famrel freetime  goout  Dalc  Walc health absences  G1  G2  \n",
       "0  ...       no      4        3      3     1     1      3        0  14  13  \n",
       "1  ...      yes      4        4      3     1     3      4        0  13  15  \n",
       "2  ...       no      2        4      4     2     3      4        6  10  11  \n",
       "3  ...       no      5        3      3     1     3      5        0  15  13  \n",
       "4  ...      yes      4        5      4     1     1      4        0   5   0  \n",
       "\n",
       "[5 rows x 33 columns]"
      ]
     },
     "execution_count": 590,
     "metadata": {},
     "output_type": "execute_result"
    }
   ],
   "source": [
    "X_train.head(n=5)"
   ]
  },
  {
   "cell_type": "markdown",
   "metadata": {},
   "source": [
    "# Exploratory Data Analysis (EDA)"
   ]
  },
  {
   "cell_type": "markdown",
   "metadata": {},
   "source": [
    "## Data Preparation"
   ]
  },
  {
   "cell_type": "code",
   "execution_count": 591,
   "metadata": {},
   "outputs": [],
   "source": [
    "df_train = pd.merge(X_train, y_train, on=\"StudentID\")"
   ]
  },
  {
   "cell_type": "markdown",
   "metadata": {},
   "source": [
    "### Binning Continuous Lables "
   ]
  },
  {
   "cell_type": "code",
   "execution_count": 592,
   "metadata": {},
   "outputs": [],
   "source": [
    "bins = ['D', 'C', 'B', 'A'] # [-1, 9, 12, 16, 20]\n",
    "# bins = ['P', 'F', 'G'] # [-1, 10, 14, 20]\n",
    "\n",
    "df_train['G3Bins'] = pd.cut(df_train['G3'].values, bins=[-1, 9, 12, 16, 20], labels=bins) "
   ]
  },
  {
   "cell_type": "code",
   "execution_count": 593,
   "metadata": {},
   "outputs": [
    {
     "name": "stderr",
     "output_type": "stream",
     "text": [
      "/home/ahur4/anaconda3/envs/data_env/lib/python3.10/site-packages/seaborn/_decorators.py:36: FutureWarning: Pass the following variable as a keyword arg: x. From version 0.12, the only valid positional argument will be `data`, and passing other arguments without an explicit keyword will result in an error or misinterpretation.\n",
      "  warnings.warn(\n"
     ]
    },
    {
     "data": {
      "text/plain": [
       "Text(0, 0.5, 'N/O Student')"
      ]
     },
     "execution_count": 593,
     "metadata": {},
     "output_type": "execute_result"
    },
    {
     "data": {
      "image/png": "[encoded data removed]",
      "text/plain": [
       "<Figure size 576x432 with 1 Axes>"
      ]
     },
     "metadata": {},
     "output_type": "display_data"
    }
   ],
   "source": [
    "sns.set_theme()\n",
    "\n",
    "plt.figure(figsize=(8,6))\n",
    "sns.countplot(df_train['G3Bins'], order=bins)\n",
    "plt.title('Final Grade Bins Distribution')\n",
    "plt.xlabel('Final Grade Bins')\n",
    "plt.ylabel('N/O Student')"
   ]
  },
  {
   "cell_type": "markdown",
   "metadata": {},
   "source": [
    "## Romance Status Effect on Final Grade Result"
   ]
  },
  {
   "cell_type": "code",
   "execution_count": 594,
   "metadata": {},
   "outputs": [
    {
     "data": {
      "text/html": [
       "<div>\n",
       "<style scoped>\n",
       "    .dataframe tbody tr th:only-of-type {\n",
       "        vertical-align: middle;\n",
       "    }\n",
       "\n",
       "    .dataframe tbody tr th {\n",
       "        vertical-align: top;\n",
       "    }\n",
       "\n",
       "    .dataframe thead th {\n",
       "        text-align: right;\n",
       "    }\n",
       "</style>\n",
       "<table border=\"1\" class=\"dataframe\">\n",
       "  <thead>\n",
       "    <tr style=\"text-align: right;\">\n",
       "      <th>romantic</th>\n",
       "      <th>no</th>\n",
       "      <th>yes</th>\n",
       "    </tr>\n",
       "    <tr>\n",
       "      <th>G3Bins</th>\n",
       "      <th></th>\n",
       "      <th></th>\n",
       "    </tr>\n",
       "  </thead>\n",
       "  <tbody>\n",
       "    <tr>\n",
       "      <th>D</th>\n",
       "      <td>0.187067</td>\n",
       "      <td>0.273469</td>\n",
       "    </tr>\n",
       "    <tr>\n",
       "      <th>C</th>\n",
       "      <td>0.408776</td>\n",
       "      <td>0.387755</td>\n",
       "    </tr>\n",
       "    <tr>\n",
       "      <th>B</th>\n",
       "      <td>0.330254</td>\n",
       "      <td>0.297959</td>\n",
       "    </tr>\n",
       "    <tr>\n",
       "      <th>A</th>\n",
       "      <td>0.073903</td>\n",
       "      <td>0.040816</td>\n",
       "    </tr>\n",
       "  </tbody>\n",
       "</table>\n",
       "</div>"
      ],
      "text/plain": [
       "romantic        no       yes\n",
       "G3Bins                      \n",
       "D         0.187067  0.273469\n",
       "C         0.408776  0.387755\n",
       "B         0.330254  0.297959\n",
       "A         0.073903  0.040816"
      ]
     },
     "execution_count": 594,
     "metadata": {},
     "output_type": "execute_result"
    }
   ],
   "source": [
    "# romantic status\n",
    "percentages = (lambda col: col/col.sum())\n",
    "index = bins\n",
    "romance_tab = pd.crosstab(index=df_train['G3Bins'], columns=X_train['romantic'])\n",
    "romance_percentages = romance_tab.apply(percentages).reindex(index)\n",
    "romance_percentages\n"
   ]
  },
  {
   "cell_type": "code",
   "execution_count": 595,
   "metadata": {},
   "outputs": [
    {
     "data": {
      "text/plain": [
       "Text(0.5, 0, 'Final Grade')"
      ]
     },
     "execution_count": 595,
     "metadata": {},
     "output_type": "execute_result"
    },
    {
     "data": {
      "text/plain": [
       "<Figure size 432x288 with 0 Axes>"
      ]
     },
     "metadata": {},
     "output_type": "display_data"
    },
    {
     "data": {
      "image/png": "[encoded data removed]",
      "text/plain": [
       "<Figure size 576x576 with 1 Axes>"
      ]
     },
     "metadata": {},
     "output_type": "display_data"
    }
   ],
   "source": [
    "plt.figure()\n",
    "romance_percentages.plot.bar(figsize=(8,8))\n",
    "plt.title('Final Grade By Romantic Status', )\n",
    "plt.ylabel('Percentage')\n",
    "plt.xlabel('Final Grade')"
   ]
  },
  {
   "cell_type": "code",
   "execution_count": 596,
   "metadata": {},
   "outputs": [
    {
     "data": {
      "text/plain": [
       "0.03206023695266702"
      ]
     },
     "execution_count": 596,
     "metadata": {},
     "output_type": "execute_result"
    }
   ],
   "source": [
    "import statsmodels.api as sm\n",
    "romance_table = sm.stats.Table(romance_tab)\n",
    "romance_rslt = romance_table.test_nominal_association()\n",
    "romance_rslt.pvalue"
   ]
  },
  {
   "cell_type": "markdown",
   "metadata": {},
   "source": [
    "p-value is less than significance level $\\alpha=0.05$, so the null hypothesis is rejected. Therefore, it can be concluded that romantic status has a significant correlation with final grade."
   ]
  },
  {
   "cell_type": "markdown",
   "metadata": {},
   "source": [
    "## Daily Alcohol Consumption Effect on Final Grade Result"
   ]
  },
  {
   "cell_type": "code",
   "execution_count": 597,
   "metadata": {},
   "outputs": [
    {
     "data": {
      "text/html": [
       "<div>\n",
       "<style scoped>\n",
       "    .dataframe tbody tr th:only-of-type {\n",
       "        vertical-align: middle;\n",
       "    }\n",
       "\n",
       "    .dataframe tbody tr th {\n",
       "        vertical-align: top;\n",
       "    }\n",
       "\n",
       "    .dataframe thead th {\n",
       "        text-align: right;\n",
       "    }\n",
       "</style>\n",
       "<table border=\"1\" class=\"dataframe\">\n",
       "  <thead>\n",
       "    <tr style=\"text-align: right;\">\n",
       "      <th></th>\n",
       "      <th>StudentID</th>\n",
       "      <th>school</th>\n",
       "      <th>sex</th>\n",
       "      <th>age</th>\n",
       "      <th>address</th>\n",
       "      <th>famsize</th>\n",
       "      <th>Pstatus</th>\n",
       "      <th>Medu</th>\n",
       "      <th>Fedu</th>\n",
       "      <th>Mjob</th>\n",
       "      <th>...</th>\n",
       "      <th>freetime</th>\n",
       "      <th>goout</th>\n",
       "      <th>Dalc</th>\n",
       "      <th>Walc</th>\n",
       "      <th>health</th>\n",
       "      <th>absences</th>\n",
       "      <th>G1</th>\n",
       "      <th>G2</th>\n",
       "      <th>G3</th>\n",
       "      <th>G3Bins</th>\n",
       "    </tr>\n",
       "  </thead>\n",
       "  <tbody>\n",
       "    <tr>\n",
       "      <th>0</th>\n",
       "      <td>1714</td>\n",
       "      <td>GP</td>\n",
       "      <td>F</td>\n",
       "      <td>18</td>\n",
       "      <td>U</td>\n",
       "      <td>GT3</td>\n",
       "      <td>T</td>\n",
       "      <td>4</td>\n",
       "      <td>3</td>\n",
       "      <td>other</td>\n",
       "      <td>...</td>\n",
       "      <td>3</td>\n",
       "      <td>3</td>\n",
       "      <td>1</td>\n",
       "      <td>1</td>\n",
       "      <td>3</td>\n",
       "      <td>0</td>\n",
       "      <td>14</td>\n",
       "      <td>13</td>\n",
       "      <td>14</td>\n",
       "      <td>B</td>\n",
       "    </tr>\n",
       "    <tr>\n",
       "      <th>1</th>\n",
       "      <td>1254</td>\n",
       "      <td>GP</td>\n",
       "      <td>F</td>\n",
       "      <td>17</td>\n",
       "      <td>U</td>\n",
       "      <td>GT3</td>\n",
       "      <td>T</td>\n",
       "      <td>4</td>\n",
       "      <td>3</td>\n",
       "      <td>health</td>\n",
       "      <td>...</td>\n",
       "      <td>4</td>\n",
       "      <td>3</td>\n",
       "      <td>1</td>\n",
       "      <td>3</td>\n",
       "      <td>4</td>\n",
       "      <td>0</td>\n",
       "      <td>13</td>\n",
       "      <td>15</td>\n",
       "      <td>15</td>\n",
       "      <td>B</td>\n",
       "    </tr>\n",
       "    <tr>\n",
       "      <th>2</th>\n",
       "      <td>1639</td>\n",
       "      <td>GP</td>\n",
       "      <td>F</td>\n",
       "      <td>16</td>\n",
       "      <td>R</td>\n",
       "      <td>GT3</td>\n",
       "      <td>T</td>\n",
       "      <td>4</td>\n",
       "      <td>4</td>\n",
       "      <td>health</td>\n",
       "      <td>...</td>\n",
       "      <td>4</td>\n",
       "      <td>4</td>\n",
       "      <td>2</td>\n",
       "      <td>3</td>\n",
       "      <td>4</td>\n",
       "      <td>6</td>\n",
       "      <td>10</td>\n",
       "      <td>11</td>\n",
       "      <td>11</td>\n",
       "      <td>C</td>\n",
       "    </tr>\n",
       "    <tr>\n",
       "      <th>3</th>\n",
       "      <td>1118</td>\n",
       "      <td>GP</td>\n",
       "      <td>M</td>\n",
       "      <td>16</td>\n",
       "      <td>U</td>\n",
       "      <td>GT3</td>\n",
       "      <td>T</td>\n",
       "      <td>4</td>\n",
       "      <td>4</td>\n",
       "      <td>services</td>\n",
       "      <td>...</td>\n",
       "      <td>3</td>\n",
       "      <td>3</td>\n",
       "      <td>1</td>\n",
       "      <td>3</td>\n",
       "      <td>5</td>\n",
       "      <td>0</td>\n",
       "      <td>15</td>\n",
       "      <td>13</td>\n",
       "      <td>13</td>\n",
       "      <td>B</td>\n",
       "    </tr>\n",
       "    <tr>\n",
       "      <th>4</th>\n",
       "      <td>1499</td>\n",
       "      <td>GP</td>\n",
       "      <td>M</td>\n",
       "      <td>19</td>\n",
       "      <td>U</td>\n",
       "      <td>GT3</td>\n",
       "      <td>T</td>\n",
       "      <td>3</td>\n",
       "      <td>2</td>\n",
       "      <td>services</td>\n",
       "      <td>...</td>\n",
       "      <td>5</td>\n",
       "      <td>4</td>\n",
       "      <td>1</td>\n",
       "      <td>1</td>\n",
       "      <td>4</td>\n",
       "      <td>0</td>\n",
       "      <td>5</td>\n",
       "      <td>0</td>\n",
       "      <td>0</td>\n",
       "      <td>D</td>\n",
       "    </tr>\n",
       "    <tr>\n",
       "      <th>...</th>\n",
       "      <td>...</td>\n",
       "      <td>...</td>\n",
       "      <td>...</td>\n",
       "      <td>...</td>\n",
       "      <td>...</td>\n",
       "      <td>...</td>\n",
       "      <td>...</td>\n",
       "      <td>...</td>\n",
       "      <td>...</td>\n",
       "      <td>...</td>\n",
       "      <td>...</td>\n",
       "      <td>...</td>\n",
       "      <td>...</td>\n",
       "      <td>...</td>\n",
       "      <td>...</td>\n",
       "      <td>...</td>\n",
       "      <td>...</td>\n",
       "      <td>...</td>\n",
       "      <td>...</td>\n",
       "      <td>...</td>\n",
       "      <td>...</td>\n",
       "    </tr>\n",
       "    <tr>\n",
       "      <th>673</th>\n",
       "      <td>1074</td>\n",
       "      <td>GP</td>\n",
       "      <td>M</td>\n",
       "      <td>15</td>\n",
       "      <td>U</td>\n",
       "      <td>GT3</td>\n",
       "      <td>T</td>\n",
       "      <td>4</td>\n",
       "      <td>4</td>\n",
       "      <td>services</td>\n",
       "      <td>...</td>\n",
       "      <td>3</td>\n",
       "      <td>3</td>\n",
       "      <td>1</td>\n",
       "      <td>1</td>\n",
       "      <td>5</td>\n",
       "      <td>4</td>\n",
       "      <td>10</td>\n",
       "      <td>13</td>\n",
       "      <td>14</td>\n",
       "      <td>B</td>\n",
       "    </tr>\n",
       "    <tr>\n",
       "      <th>674</th>\n",
       "      <td>1044</td>\n",
       "      <td>GP</td>\n",
       "      <td>M</td>\n",
       "      <td>15</td>\n",
       "      <td>R</td>\n",
       "      <td>GT3</td>\n",
       "      <td>T</td>\n",
       "      <td>4</td>\n",
       "      <td>4</td>\n",
       "      <td>other</td>\n",
       "      <td>...</td>\n",
       "      <td>3</td>\n",
       "      <td>5</td>\n",
       "      <td>3</td>\n",
       "      <td>5</td>\n",
       "      <td>1</td>\n",
       "      <td>8</td>\n",
       "      <td>12</td>\n",
       "      <td>10</td>\n",
       "      <td>11</td>\n",
       "      <td>C</td>\n",
       "    </tr>\n",
       "    <tr>\n",
       "      <th>675</th>\n",
       "      <td>1078</td>\n",
       "      <td>GP</td>\n",
       "      <td>M</td>\n",
       "      <td>17</td>\n",
       "      <td>U</td>\n",
       "      <td>LE3</td>\n",
       "      <td>T</td>\n",
       "      <td>4</td>\n",
       "      <td>4</td>\n",
       "      <td>other</td>\n",
       "      <td>...</td>\n",
       "      <td>1</td>\n",
       "      <td>1</td>\n",
       "      <td>2</td>\n",
       "      <td>2</td>\n",
       "      <td>5</td>\n",
       "      <td>0</td>\n",
       "      <td>12</td>\n",
       "      <td>13</td>\n",
       "      <td>13</td>\n",
       "      <td>B</td>\n",
       "    </tr>\n",
       "    <tr>\n",
       "      <th>676</th>\n",
       "      <td>1055</td>\n",
       "      <td>MS</td>\n",
       "      <td>M</td>\n",
       "      <td>17</td>\n",
       "      <td>R</td>\n",
       "      <td>GT3</td>\n",
       "      <td>T</td>\n",
       "      <td>1</td>\n",
       "      <td>1</td>\n",
       "      <td>other</td>\n",
       "      <td>...</td>\n",
       "      <td>5</td>\n",
       "      <td>5</td>\n",
       "      <td>1</td>\n",
       "      <td>3</td>\n",
       "      <td>2</td>\n",
       "      <td>0</td>\n",
       "      <td>10</td>\n",
       "      <td>9</td>\n",
       "      <td>10</td>\n",
       "      <td>C</td>\n",
       "    </tr>\n",
       "    <tr>\n",
       "      <th>677</th>\n",
       "      <td>1394</td>\n",
       "      <td>GP</td>\n",
       "      <td>F</td>\n",
       "      <td>17</td>\n",
       "      <td>U</td>\n",
       "      <td>GT3</td>\n",
       "      <td>T</td>\n",
       "      <td>3</td>\n",
       "      <td>2</td>\n",
       "      <td>health</td>\n",
       "      <td>...</td>\n",
       "      <td>2</td>\n",
       "      <td>2</td>\n",
       "      <td>1</td>\n",
       "      <td>2</td>\n",
       "      <td>5</td>\n",
       "      <td>0</td>\n",
       "      <td>18</td>\n",
       "      <td>18</td>\n",
       "      <td>18</td>\n",
       "      <td>A</td>\n",
       "    </tr>\n",
       "  </tbody>\n",
       "</table>\n",
       "<p>678 rows × 35 columns</p>\n",
       "</div>"
      ],
      "text/plain": [
       "     StudentID school sex  age address famsize Pstatus  Medu  Fedu      Mjob  \\\n",
       "0         1714     GP   F   18       U     GT3       T     4     3     other   \n",
       "1         1254     GP   F   17       U     GT3       T     4     3    health   \n",
       "2         1639     GP   F   16       R     GT3       T     4     4    health   \n",
       "3         1118     GP   M   16       U     GT3       T     4     4  services   \n",
       "4         1499     GP   M   19       U     GT3       T     3     2  services   \n",
       "..         ...    ...  ..  ...     ...     ...     ...   ...   ...       ...   \n",
       "673       1074     GP   M   15       U     GT3       T     4     4  services   \n",
       "674       1044     GP   M   15       R     GT3       T     4     4     other   \n",
       "675       1078     GP   M   17       U     LE3       T     4     4     other   \n",
       "676       1055     MS   M   17       R     GT3       T     1     1     other   \n",
       "677       1394     GP   F   17       U     GT3       T     3     2    health   \n",
       "\n",
       "     ... freetime goout Dalc  Walc  health  absences  G1  G2  G3 G3Bins  \n",
       "0    ...        3     3    1     1       3         0  14  13  14      B  \n",
       "1    ...        4     3    1     3       4         0  13  15  15      B  \n",
       "2    ...        4     4    2     3       4         6  10  11  11      C  \n",
       "3    ...        3     3    1     3       5         0  15  13  13      B  \n",
       "4    ...        5     4    1     1       4         0   5   0   0      D  \n",
       "..   ...      ...   ...  ...   ...     ...       ...  ..  ..  ..    ...  \n",
       "673  ...        3     3    1     1       5         4  10  13  14      B  \n",
       "674  ...        3     5    3     5       1         8  12  10  11      C  \n",
       "675  ...        1     1    2     2       5         0  12  13  13      B  \n",
       "676  ...        5     5    1     3       2         0  10   9  10      C  \n",
       "677  ...        2     2    1     2       5         0  18  18  18      A  \n",
       "\n",
       "[678 rows x 35 columns]"
      ]
     },
     "execution_count": 597,
     "metadata": {},
     "output_type": "execute_result"
    }
   ],
   "source": [
    "df_train"
   ]
  },
  {
   "cell_type": "code",
   "execution_count": 598,
   "metadata": {},
   "outputs": [],
   "source": [
    "# weekend alcohol consumption\n",
    "alc_tab = pd.crosstab(index=df_train[\"G3Bins\"], columns=df_train[\"Dalc\"])\n",
    "alc_percentages = alc_tab.apply(percentages).reindex(index)"
   ]
  },
  {
   "cell_type": "code",
   "execution_count": 599,
   "metadata": {},
   "outputs": [
    {
     "data": {
      "text/plain": [
       "Text(0.5, 0, 'Final Grade')"
      ]
     },
     "execution_count": 599,
     "metadata": {},
     "output_type": "execute_result"
    },
    {
     "data": {
      "image/png": "[encoded data removed]",
      "text/plain": [
       "<Figure size 648x432 with 1 Axes>"
      ]
     },
     "metadata": {},
     "output_type": "display_data"
    }
   ],
   "source": [
    "alc_percentages.plot.bar(figsize=(9,6))\n",
    "plt.title('Final Grade By Weekend Alcohol Consumption', )\n",
    "plt.ylabel('Percentage')\n",
    "plt.xlabel('Final Grade')"
   ]
  },
  {
   "cell_type": "code",
   "execution_count": 600,
   "metadata": {},
   "outputs": [
    {
     "data": {
      "text/plain": [
       "0.03114542959049771"
      ]
     },
     "execution_count": 600,
     "metadata": {},
     "output_type": "execute_result"
    }
   ],
   "source": [
    "import statsmodels.api as sm\n",
    "alc_table = sm.stats.Table(alc_tab)\n",
    "alc_rslt = alc_table.test_nominal_association()\n",
    "alc_rslt.pvalue"
   ]
  },
  {
   "cell_type": "markdown",
   "metadata": {},
   "source": [
    "p-value is less than significance level $\\alpha=0.05$, so the null hypothesis is rejected. Therefore, it can be concluded that daily alcohol consumption has a significant correlation with final grade."
   ]
  },
  {
   "cell_type": "markdown",
   "metadata": {},
   "source": [
    "## Parents Education Level Effect on Final Grade Result"
   ]
  },
  {
   "cell_type": "markdown",
   "metadata": {},
   "source": [
    "### Mother Education:"
   ]
  },
  {
   "cell_type": "code",
   "execution_count": 601,
   "metadata": {},
   "outputs": [],
   "source": [
    "medu_tab = pd.crosstab(index=df_train[\"G3Bins\"], columns=df_train[\"Medu\"])\n",
    "medu_percentages = medu_tab.apply(percentages).reindex(index)"
   ]
  },
  {
   "cell_type": "code",
   "execution_count": 602,
   "metadata": {},
   "outputs": [
    {
     "data": {
      "text/plain": [
       "Text(0.5, 0, 'Final Grade')"
      ]
     },
     "execution_count": 602,
     "metadata": {},
     "output_type": "execute_result"
    },
    {
     "data": {
      "image/png": "[encoded data removed]",
      "text/plain": [
       "<Figure size 648x432 with 1 Axes>"
      ]
     },
     "metadata": {},
     "output_type": "display_data"
    }
   ],
   "source": [
    "medu_percentages.plot.bar(figsize=(9,6))\n",
    "plt.title('Final Grade By Mother Education Level', )\n",
    "plt.ylabel('Percentage')\n",
    "plt.xlabel('Final Grade')"
   ]
  },
  {
   "cell_type": "code",
   "execution_count": 603,
   "metadata": {},
   "outputs": [
    {
     "data": {
      "text/plain": [
       "9.47161604702984e-08"
      ]
     },
     "execution_count": 603,
     "metadata": {},
     "output_type": "execute_result"
    }
   ],
   "source": [
    "import statsmodels.api as sm\n",
    "medu_table = sm.stats.Table(medu_tab)\n",
    "medu_rslt = medu_table.test_nominal_association()\n",
    "medu_rslt.pvalue"
   ]
  },
  {
   "cell_type": "markdown",
   "metadata": {},
   "source": [
    "p-value is less than significance level $\\alpha=0.05$, so the null hypothesis is rejected. Therefore, it can be concluded that mother's education level has a significant correlation with final grade."
   ]
  },
  {
   "cell_type": "markdown",
   "metadata": {},
   "source": [
    "### Father Education:"
   ]
  },
  {
   "cell_type": "code",
   "execution_count": 604,
   "metadata": {},
   "outputs": [],
   "source": [
    "fedu_tab = pd.crosstab(index=df_train[\"G3Bins\"], columns=df_train[\"Fedu\"])\n",
    "fedu_percentages = fedu_tab.apply(percentages).reindex(index)"
   ]
  },
  {
   "cell_type": "code",
   "execution_count": 605,
   "metadata": {},
   "outputs": [
    {
     "data": {
      "text/plain": [
       "Text(0.5, 0, 'Final Grade')"
      ]
     },
     "execution_count": 605,
     "metadata": {},
     "output_type": "execute_result"
    },
    {
     "data": {
      "image/png": "[encoded data removed]",
      "text/plain": [
       "<Figure size 648x432 with 1 Axes>"
      ]
     },
     "metadata": {},
     "output_type": "display_data"
    }
   ],
   "source": [
    "fedu_percentages.plot.bar(figsize=(9,6))\n",
    "plt.title('Final Grade By Father Education Level', )\n",
    "plt.ylabel('Percentage')\n",
    "plt.xlabel('Final Grade')"
   ]
  },
  {
   "cell_type": "code",
   "execution_count": 606,
   "metadata": {},
   "outputs": [
    {
     "data": {
      "text/plain": [
       "9.47161604702984e-08"
      ]
     },
     "execution_count": 606,
     "metadata": {},
     "output_type": "execute_result"
    }
   ],
   "source": [
    "import statsmodels.api as sm\n",
    "fedu_table = sm.stats.Table(fedu_tab)\n",
    "fedu_rslt = medu_table.test_nominal_association()\n",
    "fedu_rslt.pvalue"
   ]
  },
  {
   "cell_type": "markdown",
   "metadata": {},
   "source": [
    "p-value is less than significance level $\\alpha=0.05$, so the null hypothesis is rejected. Therefore, it can be concluded that father's education level has a significant correlation with final grade."
   ]
  },
  {
   "cell_type": "markdown",
   "metadata": {},
   "source": [
    "### OLS Analysis:"
   ]
  },
  {
   "cell_type": "code",
   "execution_count": 607,
   "metadata": {},
   "outputs": [
    {
     "data": {
      "text/html": [
       "<table class=\"simpletable\">\n",
       "<caption>OLS Regression Results</caption>\n",
       "<tr>\n",
       "  <th>Dep. Variable:</th>           <td>G3</td>        <th>  R-squared (uncentered):</th>      <td>   0.823</td> \n",
       "</tr>\n",
       "<tr>\n",
       "  <th>Model:</th>                   <td>OLS</td>       <th>  Adj. R-squared (uncentered):</th> <td>   0.822</td> \n",
       "</tr>\n",
       "<tr>\n",
       "  <th>Method:</th>             <td>Least Squares</td>  <th>  F-statistic:       </th>          <td>   1567.</td> \n",
       "</tr>\n",
       "<tr>\n",
       "  <th>Date:</th>             <td>Sun, 19 Jun 2022</td> <th>  Prob (F-statistic):</th>          <td>1.42e-254</td>\n",
       "</tr>\n",
       "<tr>\n",
       "  <th>Time:</th>                 <td>05:25:02</td>     <th>  Log-Likelihood:    </th>          <td> -2057.1</td> \n",
       "</tr>\n",
       "<tr>\n",
       "  <th>No. Observations:</th>      <td>   678</td>      <th>  AIC:               </th>          <td>   4118.</td> \n",
       "</tr>\n",
       "<tr>\n",
       "  <th>Df Residuals:</th>          <td>   676</td>      <th>  BIC:               </th>          <td>   4127.</td> \n",
       "</tr>\n",
       "<tr>\n",
       "  <th>Df Model:</th>              <td>     2</td>      <th>                     </th>              <td> </td>    \n",
       "</tr>\n",
       "<tr>\n",
       "  <th>Covariance Type:</th>      <td>nonrobust</td>    <th>                     </th>              <td> </td>    \n",
       "</tr>\n",
       "</table>\n",
       "<table class=\"simpletable\">\n",
       "<tr>\n",
       "    <td></td>      <th>coef</th>     <th>std err</th>      <th>t</th>      <th>P>|t|</th>  <th>[0.025</th>    <th>0.975]</th>  \n",
       "</tr>\n",
       "<tr>\n",
       "  <th>Medu</th> <td>    2.4136</td> <td>    0.198</td> <td>   12.197</td> <td> 0.000</td> <td>    2.025</td> <td>    2.802</td>\n",
       "</tr>\n",
       "<tr>\n",
       "  <th>Fedu</th> <td>    1.5784</td> <td>    0.215</td> <td>    7.329</td> <td> 0.000</td> <td>    1.156</td> <td>    2.001</td>\n",
       "</tr>\n",
       "</table>\n",
       "<table class=\"simpletable\">\n",
       "<tr>\n",
       "  <th>Omnibus:</th>       <td>12.614</td> <th>  Durbin-Watson:     </th> <td>   1.801</td>\n",
       "</tr>\n",
       "<tr>\n",
       "  <th>Prob(Omnibus):</th> <td> 0.002</td> <th>  Jarque-Bera (JB):  </th> <td>  12.881</td>\n",
       "</tr>\n",
       "<tr>\n",
       "  <th>Skew:</th>          <td>-0.309</td> <th>  Prob(JB):          </th> <td> 0.00160</td>\n",
       "</tr>\n",
       "<tr>\n",
       "  <th>Kurtosis:</th>      <td> 3.273</td> <th>  Cond. No.          </th> <td>    5.66</td>\n",
       "</tr>\n",
       "</table><br/><br/>Notes:<br/>[1] R² is computed without centering (uncentered) since the model does not contain a constant.<br/>[2] Standard Errors assume that the covariance matrix of the errors is correctly specified."
      ],
      "text/plain": [
       "<class 'statsmodels.iolib.summary.Summary'>\n",
       "\"\"\"\n",
       "                                 OLS Regression Results                                \n",
       "=======================================================================================\n",
       "Dep. Variable:                     G3   R-squared (uncentered):                   0.823\n",
       "Model:                            OLS   Adj. R-squared (uncentered):              0.822\n",
       "Method:                 Least Squares   F-statistic:                              1567.\n",
       "Date:                Sun, 19 Jun 2022   Prob (F-statistic):                   1.42e-254\n",
       "Time:                        05:25:02   Log-Likelihood:                         -2057.1\n",
       "No. Observations:                 678   AIC:                                      4118.\n",
       "Df Residuals:                     676   BIC:                                      4127.\n",
       "Df Model:                           2                                                  \n",
       "Covariance Type:            nonrobust                                                  \n",
       "==============================================================================\n",
       "                 coef    std err          t      P>|t|      [0.025      0.975]\n",
       "------------------------------------------------------------------------------\n",
       "Medu           2.4136      0.198     12.197      0.000       2.025       2.802\n",
       "Fedu           1.5784      0.215      7.329      0.000       1.156       2.001\n",
       "==============================================================================\n",
       "Omnibus:                       12.614   Durbin-Watson:                   1.801\n",
       "Prob(Omnibus):                  0.002   Jarque-Bera (JB):               12.881\n",
       "Skew:                          -0.309   Prob(JB):                      0.00160\n",
       "Kurtosis:                       3.273   Cond. No.                         5.66\n",
       "==============================================================================\n",
       "\n",
       "Notes:\n",
       "[1] R² is computed without centering (uncentered) since the model does not contain a constant.\n",
       "[2] Standard Errors assume that the covariance matrix of the errors is correctly specified.\n",
       "\"\"\""
      ]
     },
     "execution_count": 607,
     "metadata": {},
     "output_type": "execute_result"
    }
   ],
   "source": [
    "# use OLS to see coefficients\n",
    "X_edu = df_train[['Medu','Fedu']]\n",
    "y_edu = df_train['G3']\n",
    "edu = sm.OLS(y_edu, X_edu)\n",
    "results_edu = edu.fit()\n",
    "results_edu.summary()"
   ]
  },
  {
   "cell_type": "markdown",
   "metadata": {},
   "source": [
    "both coefficients are meaningfull. (because of both p-values of coefficients are less than significance level of $\\alpha = 0.05$). also we can conclude that\n",
    "mother's education level has bigger influence than father's education level."
   ]
  },
  {
   "cell_type": "markdown",
   "metadata": {},
   "source": [
    "## Frequency of Going Out Effect on Final Grade Result"
   ]
  },
  {
   "cell_type": "code",
   "execution_count": 608,
   "metadata": {},
   "outputs": [],
   "source": [
    "goout_tab = pd.crosstab(index=df_train[\"G3Bins\"], columns=df_train[\"goout\"])\n",
    "goout_percentages = fedu_tab.apply(percentages).reindex(index)"
   ]
  },
  {
   "cell_type": "code",
   "execution_count": 609,
   "metadata": {},
   "outputs": [
    {
     "data": {
      "text/plain": [
       "Text(0.5, 0, 'Final Grade')"
      ]
     },
     "execution_count": 609,
     "metadata": {},
     "output_type": "execute_result"
    },
    {
     "data": {
      "image/png": "[encoded data removed]",
      "text/plain": [
       "<Figure size 648x432 with 1 Axes>"
      ]
     },
     "metadata": {},
     "output_type": "display_data"
    }
   ],
   "source": [
    "goout_percentages.plot.bar(figsize=(9,6))\n",
    "plt.title('Final Grade By Frequency of Going Out', )\n",
    "plt.ylabel('Percentage')\n",
    "plt.xlabel('Final Grade')"
   ]
  },
  {
   "cell_type": "code",
   "execution_count": 610,
   "metadata": {},
   "outputs": [
    {
     "data": {
      "text/plain": [
       "Text(0.5, 0, 'Frequency of Going Out')"
      ]
     },
     "execution_count": 610,
     "metadata": {},
     "output_type": "execute_result"
    },
    {
     "data": {
      "image/png": "[encoded data removed]",
      "text/plain": [
       "<Figure size 648x432 with 1 Axes>"
      ]
     },
     "metadata": {},
     "output_type": "display_data"
    }
   ],
   "source": [
    "plt.figure(figsize=(9,6))\n",
    "sns.boxplot(x='goout', y='G3', data=df_train, palette='hot')\n",
    "plt.title('Final Grade By Frequency of Going Out')\n",
    "plt.ylabel('Final Score')\n",
    "plt.xlabel('Frequency of Going Out')"
   ]
  },
  {
   "cell_type": "code",
   "execution_count": 611,
   "metadata": {},
   "outputs": [
    {
     "data": {
      "text/plain": [
       "0.005472963320912405"
      ]
     },
     "execution_count": 611,
     "metadata": {},
     "output_type": "execute_result"
    }
   ],
   "source": [
    "goout_table = sm.stats.Table(goout_tab)\n",
    "goout_rslt = goout_table.test_nominal_association()\n",
    "goout_rslt.pvalue"
   ]
  },
  {
   "cell_type": "code",
   "execution_count": 650,
   "metadata": {},
   "outputs": [
    {
     "data": {
      "text/html": [
       "<table class=\"simpletable\">\n",
       "<caption>OLS Regression Results</caption>\n",
       "<tr>\n",
       "  <th>Dep. Variable:</th>           <td>G3</td>        <th>  R-squared (uncentered):</th>      <td>   0.768</td> \n",
       "</tr>\n",
       "<tr>\n",
       "  <th>Model:</th>                   <td>OLS</td>       <th>  Adj. R-squared (uncentered):</th> <td>   0.767</td> \n",
       "</tr>\n",
       "<tr>\n",
       "  <th>Method:</th>             <td>Least Squares</td>  <th>  F-statistic:       </th>          <td>   2239.</td> \n",
       "</tr>\n",
       "<tr>\n",
       "  <th>Date:</th>             <td>Sun, 19 Jun 2022</td> <th>  Prob (F-statistic):</th>          <td>7.69e-217</td>\n",
       "</tr>\n",
       "<tr>\n",
       "  <th>Time:</th>                 <td>05:27:27</td>     <th>  Log-Likelihood:    </th>          <td> -2148.4</td> \n",
       "</tr>\n",
       "<tr>\n",
       "  <th>No. Observations:</th>      <td>   678</td>      <th>  AIC:               </th>          <td>   4299.</td> \n",
       "</tr>\n",
       "<tr>\n",
       "  <th>Df Residuals:</th>          <td>   677</td>      <th>  BIC:               </th>          <td>   4303.</td> \n",
       "</tr>\n",
       "<tr>\n",
       "  <th>Df Model:</th>              <td>     1</td>      <th>                     </th>              <td> </td>    \n",
       "</tr>\n",
       "<tr>\n",
       "  <th>Covariance Type:</th>      <td>nonrobust</td>    <th>                     </th>              <td> </td>    \n",
       "</tr>\n",
       "</table>\n",
       "<table class=\"simpletable\">\n",
       "<tr>\n",
       "    <td></td>       <th>coef</th>     <th>std err</th>      <th>t</th>      <th>P>|t|</th>  <th>[0.025</th>    <th>0.975]</th>  \n",
       "</tr>\n",
       "<tr>\n",
       "  <th>goout</th> <td>    3.1237</td> <td>    0.066</td> <td>   47.314</td> <td> 0.000</td> <td>    2.994</td> <td>    3.253</td>\n",
       "</tr>\n",
       "</table>\n",
       "<table class=\"simpletable\">\n",
       "<tr>\n",
       "  <th>Omnibus:</th>       <td>26.240</td> <th>  Durbin-Watson:     </th> <td>   2.044</td>\n",
       "</tr>\n",
       "<tr>\n",
       "  <th>Prob(Omnibus):</th> <td> 0.000</td> <th>  Jarque-Bera (JB):  </th> <td>  28.253</td>\n",
       "</tr>\n",
       "<tr>\n",
       "  <th>Skew:</th>          <td>-0.480</td> <th>  Prob(JB):          </th> <td>7.33e-07</td>\n",
       "</tr>\n",
       "<tr>\n",
       "  <th>Kurtosis:</th>      <td> 3.277</td> <th>  Cond. No.          </th> <td>    1.00</td>\n",
       "</tr>\n",
       "</table><br/><br/>Notes:<br/>[1] R² is computed without centering (uncentered) since the model does not contain a constant.<br/>[2] Standard Errors assume that the covariance matrix of the errors is correctly specified."
      ],
      "text/plain": [
       "<class 'statsmodels.iolib.summary.Summary'>\n",
       "\"\"\"\n",
       "                                 OLS Regression Results                                \n",
       "=======================================================================================\n",
       "Dep. Variable:                     G3   R-squared (uncentered):                   0.768\n",
       "Model:                            OLS   Adj. R-squared (uncentered):              0.767\n",
       "Method:                 Least Squares   F-statistic:                              2239.\n",
       "Date:                Sun, 19 Jun 2022   Prob (F-statistic):                   7.69e-217\n",
       "Time:                        05:27:27   Log-Likelihood:                         -2148.4\n",
       "No. Observations:                 678   AIC:                                      4299.\n",
       "Df Residuals:                     677   BIC:                                      4303.\n",
       "Df Model:                           1                                                  \n",
       "Covariance Type:            nonrobust                                                  \n",
       "==============================================================================\n",
       "                 coef    std err          t      P>|t|      [0.025      0.975]\n",
       "------------------------------------------------------------------------------\n",
       "goout          3.1237      0.066     47.314      0.000       2.994       3.253\n",
       "==============================================================================\n",
       "Omnibus:                       26.240   Durbin-Watson:                   2.044\n",
       "Prob(Omnibus):                  0.000   Jarque-Bera (JB):               28.253\n",
       "Skew:                          -0.480   Prob(JB):                     7.33e-07\n",
       "Kurtosis:                       3.277   Cond. No.                         1.00\n",
       "==============================================================================\n",
       "\n",
       "Notes:\n",
       "[1] R² is computed without centering (uncentered) since the model does not contain a constant.\n",
       "[2] Standard Errors assume that the covariance matrix of the errors is correctly specified.\n",
       "\"\"\""
      ]
     },
     "execution_count": 650,
     "metadata": {},
     "output_type": "execute_result"
    }
   ],
   "source": [
    "# use OLS to see coefficients\n",
    "X_edu = df_train[['goout']]\n",
    "y_edu = df_train['G3']\n",
    "edu = sm.OLS(y_edu, X_edu)\n",
    "results_edu = edu.fit()\n",
    "results_edu.summary()"
   ]
  },
  {
   "cell_type": "markdown",
   "metadata": {},
   "source": [
    "p-value is'nt less than significance level $\\alpha=0.05$ so we can't reject null hypothesis in this significance level but **surprisingly**\n",
    "p-value is less than significance level $\\alpha=0.10$, so the null hypothesis is rejected (in this significance level). Therefore, it can be concluded that frequency of going out has a significant correlation with final grade."
   ]
  },
  {
   "cell_type": "markdown",
   "metadata": {},
   "source": [
    "# Feature Engineering"
   ]
  },
  {
   "cell_type": "markdown",
   "metadata": {},
   "source": [
    "## Remove ID Column"
   ]
  },
  {
   "cell_type": "code",
   "execution_count": 612,
   "metadata": {},
   "outputs": [],
   "source": [
    "test_studentID = X_test['StudentID']\n",
    "\n",
    "X_train = X_train.drop(['StudentID'], axis = 1)\n",
    "X_test = X_test.drop(['StudentID'], axis = 1)\n",
    "y_train = y_train.drop(['StudentID'], axis = 1)\n",
    "y_test = y_test.drop(['StudentID'], axis = 1)"
   ]
  },
  {
   "cell_type": "code",
   "execution_count": 613,
   "metadata": {},
   "outputs": [],
   "source": [
    "y_train = y_train.iloc[:, 0]\n",
    "y_test = y_test.iloc[:, 0]\n"
   ]
  },
  {
   "cell_type": "markdown",
   "metadata": {},
   "source": [
    "## Null Values Imputation"
   ]
  },
  {
   "cell_type": "code",
   "execution_count": 614,
   "metadata": {},
   "outputs": [
    {
     "name": "stdout",
     "output_type": "stream",
     "text": [
      "Column Name , Type    , Train Null Counts, Test Null Counts\n",
      "school      , object  , 0           , 0           \n",
      "sex         , object  , 0           , 0           \n",
      "age         , int64   , 0           , 0           \n",
      "address     , object  , 0           , 0           \n",
      "famsize     , object  , 0           , 0           \n",
      "Pstatus     , object  , 0           , 0           \n",
      "Medu        , int64   , 0           , 0           \n",
      "Fedu        , int64   , 0           , 0           \n",
      "Mjob        , object  , 0           , 0           \n",
      "Fjob        , object  , 0           , 0           \n",
      "reason      , object  , 0           , 0           \n",
      "guardian    , object  , 0           , 0           \n",
      "traveltime  , int64   , 0           , 0           \n",
      "studytime   , int64   , 0           , 0           \n",
      "failures    , int64   , 0           , 0           \n",
      "schoolsup   , object  , 0           , 0           \n",
      "famsup      , object  , 0           , 0           \n",
      "paid        , object  , 0           , 0           \n",
      "activities  , object  , 0           , 0           \n",
      "nursery     , object  , 0           , 0           \n",
      "higher      , object  , 0           , 0           \n",
      "internet    , object  , 0           , 0           \n",
      "romantic    , object  , 0           , 0           \n",
      "famrel      , int64   , 0           , 0           \n",
      "freetime    , int64   , 0           , 0           \n",
      "goout       , int64   , 0           , 0           \n",
      "Dalc        , int64   , 0           , 0           \n",
      "Walc        , int64   , 0           , 0           \n",
      "health      , int64   , 0           , 0           \n",
      "absences    , int64   , 0           , 0           \n",
      "G1          , int64   , 0           , 0           \n",
      "G2          , int64   , 0           , 0           \n"
     ]
    }
   ],
   "source": [
    "print('{:<12}, {:<8}, {:<12}, {:<12}'.format(\"Column Name\", \"Type\", \"Train Null Counts\", \"Test Null Counts\")) \n",
    "for column_name in X_train.columns:\n",
    "    train_column:pd.Series = X_train[column_name]\n",
    "    test_column:pd.Series = X_test[column_name]\n",
    "    \n",
    "    column_type = train_column.dtype\n",
    "    train_null_values_count = train_column.isnull().sum()\n",
    "    test_null_values_count = test_column.isnull().sum()\n",
    "    \n",
    "    print('{:<12}, {:<8}, {:<12}, {:<12}'.format(column_name, str(column_type), train_null_values_count, test_null_values_count)) "
   ]
  },
  {
   "cell_type": "markdown",
   "metadata": {},
   "source": [
    "There is no null values in the dataframe columns. So we do not need null values imputation for data preprocessing."
   ]
  },
  {
   "cell_type": "markdown",
   "metadata": {},
   "source": [
    "## One-Hot Encoding"
   ]
  },
  {
   "cell_type": "markdown",
   "metadata": {},
   "source": [
    "Extract numerical & categorical features of dataset."
   ]
  },
  {
   "cell_type": "code",
   "execution_count": 615,
   "metadata": {},
   "outputs": [],
   "source": [
    "numerical_columns = X_train._get_numeric_data().columns\n",
    "categorical_columns = list(set(X_train.columns) - set(numerical_columns))"
   ]
  },
  {
   "cell_type": "code",
   "execution_count": 616,
   "metadata": {},
   "outputs": [],
   "source": [
    "enc = OneHotEncoder(handle_unknown='ignore')\n",
    "\n",
    "enc.fit(X_train[categorical_columns])\n",
    "\n",
    "X_train_encoded_cat_columns_ = enc.transform(X_train[categorical_columns])\n",
    "X_test_encoded_cat_columns_ = enc.transform(X_test[categorical_columns])"
   ]
  },
  {
   "cell_type": "code",
   "execution_count": 617,
   "metadata": {},
   "outputs": [],
   "source": [
    "x_train_ohe_categorical_columns = pd.DataFrame(X_train_encoded_cat_columns_.todense(), columns = enc.get_feature_names_out())\n",
    "x_test_ohe_categorical_columns = pd.DataFrame(X_test_encoded_cat_columns_.todense(), columns = enc.get_feature_names_out())"
   ]
  },
  {
   "cell_type": "markdown",
   "metadata": {},
   "source": [
    "append the extracted one-hot encoded categorical features to the numerical columns."
   ]
  },
  {
   "cell_type": "code",
   "execution_count": 618,
   "metadata": {},
   "outputs": [],
   "source": [
    "X_train = pd.concat([X_train[numerical_columns], x_train_ohe_categorical_columns], axis = 1)\n",
    "X_test = pd.concat([X_test[numerical_columns], x_test_ohe_categorical_columns], axis = 1)"
   ]
  },
  {
   "cell_type": "markdown",
   "metadata": {},
   "source": [
    "## Standardization "
   ]
  },
  {
   "cell_type": "markdown",
   "metadata": {},
   "source": [
    "In this section, numerical columns of dataframe are standardized."
   ]
  },
  {
   "cell_type": "code",
   "execution_count": 619,
   "metadata": {},
   "outputs": [],
   "source": [
    "Scaler = MinMaxScaler\n",
    "scaler = Scaler()\n",
    "\n",
    "X_train[numerical_columns] = scaler.fit_transform(X_train[numerical_columns]) \n",
    "X_test[numerical_columns] = scaler.fit_transform(X_test[numerical_columns])"
   ]
  },
  {
   "cell_type": "markdown",
   "metadata": {},
   "source": [
    "## Elimination of Multicollinearity\n",
    "\n",
    "A simple method to detect multicollinearity in a model is by using something called the variance inflation factor or the VIF for each predicting variable.\n",
    "\n",
    "$$\n",
    "    \\mathbf{VIF(\\hat{\\beta}_j) = \\frac{1}{1 - R^2_{X_j | X_{(-j)}}}}\n",
    "$$\n",
    "\n",
    "VIF measures the ratio between the variance for a given regression coefficient with only that variable in the model versus the variance for a given regression coefficient with all variables in the model.\n",
    "\n",
    "A VIF of 1 (the minimum possible VIF) means the tested predictor is not correlated with the other predictors.A VIF of 1 (the minimum possible VIF) means the tested predictor is not correlated with the other predictors.\n",
    "\n",
    "The higher the VIF,\n",
    "- The more correlated a predictor is with the other predictors\n",
    "- The more the standard error is inflated\n",
    "- The larger the confidence interval\n",
    "- The less likely it is that a coefficient will be evaluated as statistically significant\n",
    "\n",
    "Acceptable VIF values are less than 10.\n",
    "\n",
    "[Understanding Multicollinearity and How to Detect it in Python](https://towardsdatascience.com/everything-you-need-to-know-about-multicollinearity-2f21f082d6dc)"
   ]
  },
  {
   "cell_type": "code",
   "execution_count": 620,
   "metadata": {},
   "outputs": [
    {
     "data": {
      "text/html": [
       "<div>\n",
       "<style scoped>\n",
       "    .dataframe tbody tr th:only-of-type {\n",
       "        vertical-align: middle;\n",
       "    }\n",
       "\n",
       "    .dataframe tbody tr th {\n",
       "        vertical-align: top;\n",
       "    }\n",
       "\n",
       "    .dataframe thead th {\n",
       "        text-align: right;\n",
       "    }\n",
       "</style>\n",
       "<table border=\"1\" class=\"dataframe\">\n",
       "  <thead>\n",
       "    <tr style=\"text-align: right;\">\n",
       "      <th></th>\n",
       "      <th>feature</th>\n",
       "      <th>VIF</th>\n",
       "    </tr>\n",
       "  </thead>\n",
       "  <tbody>\n",
       "    <tr>\n",
       "      <th>0</th>\n",
       "      <td>age</td>\n",
       "      <td>3.172894</td>\n",
       "    </tr>\n",
       "    <tr>\n",
       "      <th>1</th>\n",
       "      <td>Medu</td>\n",
       "      <td>11.165623</td>\n",
       "    </tr>\n",
       "    <tr>\n",
       "      <th>2</th>\n",
       "      <td>Fedu</td>\n",
       "      <td>9.785930</td>\n",
       "    </tr>\n",
       "    <tr>\n",
       "      <th>3</th>\n",
       "      <td>traveltime</td>\n",
       "      <td>1.514029</td>\n",
       "    </tr>\n",
       "    <tr>\n",
       "      <th>4</th>\n",
       "      <td>studytime</td>\n",
       "      <td>2.560143</td>\n",
       "    </tr>\n",
       "    <tr>\n",
       "      <th>5</th>\n",
       "      <td>failures</td>\n",
       "      <td>1.413081</td>\n",
       "    </tr>\n",
       "    <tr>\n",
       "      <th>6</th>\n",
       "      <td>famrel</td>\n",
       "      <td>9.610404</td>\n",
       "    </tr>\n",
       "    <tr>\n",
       "      <th>7</th>\n",
       "      <td>freetime</td>\n",
       "      <td>6.013899</td>\n",
       "    </tr>\n",
       "    <tr>\n",
       "      <th>8</th>\n",
       "      <td>goout</td>\n",
       "      <td>5.536265</td>\n",
       "    </tr>\n",
       "    <tr>\n",
       "      <th>9</th>\n",
       "      <td>Dalc</td>\n",
       "      <td>2.304448</td>\n",
       "    </tr>\n",
       "    <tr>\n",
       "      <th>10</th>\n",
       "      <td>Walc</td>\n",
       "      <td>3.914209</td>\n",
       "    </tr>\n",
       "    <tr>\n",
       "      <th>11</th>\n",
       "      <td>health</td>\n",
       "      <td>4.062746</td>\n",
       "    </tr>\n",
       "    <tr>\n",
       "      <th>12</th>\n",
       "      <td>absences</td>\n",
       "      <td>1.574240</td>\n",
       "    </tr>\n",
       "    <tr>\n",
       "      <th>13</th>\n",
       "      <td>G1</td>\n",
       "      <td>28.736676</td>\n",
       "    </tr>\n",
       "    <tr>\n",
       "      <th>14</th>\n",
       "      <td>G2</td>\n",
       "      <td>41.435338</td>\n",
       "    </tr>\n",
       "  </tbody>\n",
       "</table>\n",
       "</div>"
      ],
      "text/plain": [
       "       feature        VIF\n",
       "0          age   3.172894\n",
       "1         Medu  11.165623\n",
       "2         Fedu   9.785930\n",
       "3   traveltime   1.514029\n",
       "4    studytime   2.560143\n",
       "5     failures   1.413081\n",
       "6       famrel   9.610404\n",
       "7     freetime   6.013899\n",
       "8        goout   5.536265\n",
       "9         Dalc   2.304448\n",
       "10        Walc   3.914209\n",
       "11      health   4.062746\n",
       "12    absences   1.574240\n",
       "13          G1  28.736676\n",
       "14          G2  41.435338"
      ]
     },
     "execution_count": 620,
     "metadata": {},
     "output_type": "execute_result"
    }
   ],
   "source": [
    "from statsmodels.stats.outliers_influence import variance_inflation_factor\n",
    "\n",
    "vif_data = pd.DataFrame()\n",
    "vif_data['feature'] = numerical_columns\n",
    "vif_data['VIF'] = [variance_inflation_factor(X_train[numerical_columns].values, i) for i in range(len(X_train[numerical_columns].columns))]\n",
    "vif_data"
   ]
  },
  {
   "cell_type": "code",
   "execution_count": 621,
   "metadata": {},
   "outputs": [],
   "source": [
    "to_drop_columns = ['Medu', 'famrel']\n",
    "numerical_columns = list(filter(lambda col: col not in to_drop_columns, numerical_columns))\n",
    "X_train.drop(to_drop_columns, axis=1, inplace=True)\n",
    "X_test.drop(to_drop_columns, axis=1, inplace=True)"
   ]
  },
  {
   "cell_type": "markdown",
   "metadata": {},
   "source": [
    "#### Check VIF of Remaining Predictors"
   ]
  },
  {
   "cell_type": "code",
   "execution_count": 622,
   "metadata": {},
   "outputs": [
    {
     "data": {
      "text/html": [
       "<div>\n",
       "<style scoped>\n",
       "    .dataframe tbody tr th:only-of-type {\n",
       "        vertical-align: middle;\n",
       "    }\n",
       "\n",
       "    .dataframe tbody tr th {\n",
       "        vertical-align: top;\n",
       "    }\n",
       "\n",
       "    .dataframe thead th {\n",
       "        text-align: right;\n",
       "    }\n",
       "</style>\n",
       "<table border=\"1\" class=\"dataframe\">\n",
       "  <thead>\n",
       "    <tr style=\"text-align: right;\">\n",
       "      <th></th>\n",
       "      <th>feature</th>\n",
       "      <th>VIF</th>\n",
       "    </tr>\n",
       "  </thead>\n",
       "  <tbody>\n",
       "    <tr>\n",
       "      <th>0</th>\n",
       "      <td>age</td>\n",
       "      <td>3.114215</td>\n",
       "    </tr>\n",
       "    <tr>\n",
       "      <th>1</th>\n",
       "      <td>Fedu</td>\n",
       "      <td>5.768306</td>\n",
       "    </tr>\n",
       "    <tr>\n",
       "      <th>2</th>\n",
       "      <td>traveltime</td>\n",
       "      <td>1.466660</td>\n",
       "    </tr>\n",
       "    <tr>\n",
       "      <th>3</th>\n",
       "      <td>studytime</td>\n",
       "      <td>2.512662</td>\n",
       "    </tr>\n",
       "    <tr>\n",
       "      <th>4</th>\n",
       "      <td>failures</td>\n",
       "      <td>1.412711</td>\n",
       "    </tr>\n",
       "    <tr>\n",
       "      <th>5</th>\n",
       "      <td>freetime</td>\n",
       "      <td>5.704201</td>\n",
       "    </tr>\n",
       "    <tr>\n",
       "      <th>6</th>\n",
       "      <td>goout</td>\n",
       "      <td>5.403435</td>\n",
       "    </tr>\n",
       "    <tr>\n",
       "      <th>7</th>\n",
       "      <td>Dalc</td>\n",
       "      <td>2.273205</td>\n",
       "    </tr>\n",
       "    <tr>\n",
       "      <th>8</th>\n",
       "      <td>Walc</td>\n",
       "      <td>3.895534</td>\n",
       "    </tr>\n",
       "    <tr>\n",
       "      <th>9</th>\n",
       "      <td>health</td>\n",
       "      <td>3.808079</td>\n",
       "    </tr>\n",
       "    <tr>\n",
       "      <th>10</th>\n",
       "      <td>absences</td>\n",
       "      <td>1.557221</td>\n",
       "    </tr>\n",
       "    <tr>\n",
       "      <th>11</th>\n",
       "      <td>G1</td>\n",
       "      <td>28.600770</td>\n",
       "    </tr>\n",
       "    <tr>\n",
       "      <th>12</th>\n",
       "      <td>G2</td>\n",
       "      <td>38.973896</td>\n",
       "    </tr>\n",
       "  </tbody>\n",
       "</table>\n",
       "</div>"
      ],
      "text/plain": [
       "       feature        VIF\n",
       "0          age   3.114215\n",
       "1         Fedu   5.768306\n",
       "2   traveltime   1.466660\n",
       "3    studytime   2.512662\n",
       "4     failures   1.412711\n",
       "5     freetime   5.704201\n",
       "6        goout   5.403435\n",
       "7         Dalc   2.273205\n",
       "8         Walc   3.895534\n",
       "9       health   3.808079\n",
       "10    absences   1.557221\n",
       "11          G1  28.600770\n",
       "12          G2  38.973896"
      ]
     },
     "execution_count": 622,
     "metadata": {},
     "output_type": "execute_result"
    }
   ],
   "source": [
    "from statsmodels.stats.outliers_influence import variance_inflation_factor\n",
    "\n",
    "vif_data = pd.DataFrame()\n",
    "vif_data['feature'] = numerical_columns\n",
    "vif_data['VIF'] = [variance_inflation_factor(X_train[numerical_columns].values, i) for i in range(len(X_train[numerical_columns].columns))]\n",
    "vif_data"
   ]
  },
  {
   "cell_type": "markdown",
   "metadata": {},
   "source": [
    "G1 & G2 features are informative features. So do not required to drop this features from the dataset. "
   ]
  },
  {
   "cell_type": "markdown",
   "metadata": {},
   "source": [
    "## Feature Selection"
   ]
  },
  {
   "cell_type": "code",
   "execution_count": 623,
   "metadata": {},
   "outputs": [],
   "source": [
    "fs_approach = 'mi'"
   ]
  },
  {
   "cell_type": "markdown",
   "metadata": {},
   "source": [
    "### Mutual Information\n",
    "\n",
    "Mutual Information measures the entropy drops under the condition of the target value. I found the cleanest explanation to this concept is this formula:\n",
    "\n",
    "$$\n",
    "\\mathbf{\n",
    "MI(X,y) = H(X) - H(X|y)\n",
    "}\n",
    "$$"
   ]
  },
  {
   "cell_type": "code",
   "execution_count": 624,
   "metadata": {},
   "outputs": [
    {
     "name": "stdout",
     "output_type": "stream",
     "text": [
      "14 features selected!\n"
     ]
    }
   ],
   "source": [
    "from sklearn.feature_selection import mutual_info_regression as MI\n",
    "from sklearn.feature_selection import SelectKBest, SelectPercentile\n",
    "\n",
    "if fs_approach == 'mi':\n",
    "    selector = SelectPercentile(score_func=MI, percentile=25, )\n",
    "    selector.fit(X_train, y_train)\n",
    "    \n",
    "    X_train = selector.transform(X_train)\n",
    "    X_test = selector.transform(X_test)\n",
    "        \n",
    "    print(f\"{X_train.shape[1]} features selected!\")"
   ]
  },
  {
   "cell_type": "markdown",
   "metadata": {},
   "source": [
    "### Tree-Based Feature Selection"
   ]
  },
  {
   "cell_type": "code",
   "execution_count": 625,
   "metadata": {},
   "outputs": [],
   "source": [
    "from sklearn.ensemble import ExtraTreesClassifier\n",
    "from sklearn.feature_selection import SelectFromModel\n",
    "\n",
    "if fs_approach == 'tree-based':\n",
    "    clf = ExtraTreesClassifier(n_estimators=50)\n",
    "    clf.fit(X_train, y_train)\n",
    "\n",
    "    selector = SelectFromModel(clf, prefit=True)\n",
    "    X_train = selector.transform(X_train)\n",
    "    X_test = selector.transform(X_test)\n",
    "    \n",
    "    print(f\"{X_train.shape[1]} features selected!\")"
   ]
  },
  {
   "cell_type": "markdown",
   "metadata": {},
   "source": [
    "### Sequential Feature Selection (Greedy)"
   ]
  },
  {
   "cell_type": "code",
   "execution_count": 626,
   "metadata": {},
   "outputs": [],
   "source": [
    "from sklearn.linear_model import RidgeCV\n",
    "from sklearn.feature_selection import SequentialFeatureSelector\n",
    "\n",
    "if fs_approach == 'sequential':\n",
    "    \n",
    "    n_features_to_select = 25\n",
    "    \n",
    "    ridge = RidgeCV(alphas=np.logspace(-6, 6, num=10)).fit(X_train, y_train)\n",
    "    selector = SequentialFeatureSelector(\n",
    "        ridge, \n",
    "        n_features_to_select=n_features_to_select, \n",
    "        direction=\"forward\"\n",
    "        ).fit(X_train, y_train)\n",
    "    \n",
    "    X_train = selector.transform(X_train)\n",
    "    X_test = selector.transform(X_test)\n",
    "    \n",
    "    print(f\"{X_train.shape[1]} features selected!\")\n",
    "    "
   ]
  },
  {
   "cell_type": "markdown",
   "metadata": {},
   "source": [
    "# Detect & Adjust Heteroscedasticity"
   ]
  },
  {
   "cell_type": "code",
   "execution_count": 627,
   "metadata": {},
   "outputs": [
    {
     "data": {
      "image/png": "[encoded data removed]",
      "text/plain": [
       "<Figure size 432x288 with 1 Axes>"
      ]
     },
     "metadata": {},
     "output_type": "display_data"
    }
   ],
   "source": [
    "from sklearn.linear_model import LinearRegression\n",
    "\n",
    "model = LinearRegression()\n",
    "model.fit(X_train, y_train)\n",
    "\n",
    "y_train_predicted = model.predict(X_train).squeeze()\n",
    "\n",
    "sns.scatterplot(x=y_train, y=y_train_predicted)\n",
    "\n",
    "plt.xlabel('Fitted Y')\n",
    "plt.ylabel('True Y')\n",
    "\n",
    "plt.show()"
   ]
  },
  {
   "cell_type": "code",
   "execution_count": 628,
   "metadata": {},
   "outputs": [
    {
     "data": {
      "image/png": "[encoded data removed]",
      "text/plain": [
       "<Figure size 432x288 with 1 Axes>"
      ]
     },
     "metadata": {},
     "output_type": "display_data"
    }
   ],
   "source": [
    "model = LinearRegression()\n",
    "model.fit(X_train, y_train)\n",
    "y_test_predicted = model.predict(X_test)\n",
    "\n",
    "y_train_predicted = model.predict(X_train).squeeze()\n",
    "residuals = (y_train.squeeze() - y_train_predicted)\n",
    "\n",
    "sns.scatterplot(x=y_train_predicted, y=residuals)\n",
    "\n",
    "plt.xlabel('Fitted Y')\n",
    "plt.ylabel('Residuals')\n",
    "\n",
    "plt.show()"
   ]
  },
  {
   "cell_type": "code",
   "execution_count": 629,
   "metadata": {},
   "outputs": [
    {
     "data": {
      "image/png": "[encoded data removed]",
      "text/plain": [
       "<Figure size 432x288 with 1 Axes>"
      ]
     },
     "metadata": {},
     "output_type": "display_data"
    }
   ],
   "source": [
    "model = LinearRegression()\n",
    "model.fit(X_train, y_train)\n",
    "y_test_predicted = model.predict(X_test)\n",
    "\n",
    "y_train_predicted = model.predict(X_train).squeeze()\n",
    "residuals = (y_train.squeeze() - y_train_predicted)\n",
    "\n",
    "sns.scatterplot(x=y_train.squeeze(), y=residuals)\n",
    "\n",
    "plt.xlabel('Y')\n",
    "plt.ylabel('Residuals')\n",
    "\n",
    "plt.show()"
   ]
  },
  {
   "cell_type": "markdown",
   "metadata": {},
   "source": [
    "near zero scores are leveraged points that indicate that the data is not well-respresented by the model. so we need to filter this points based on classification on weather the score of student is above or below the near zero threshold (e.g 1.0)."
   ]
  },
  {
   "cell_type": "code",
   "execution_count": 630,
   "metadata": {},
   "outputs": [
    {
     "name": "stdout",
     "output_type": "stream",
     "text": [
      "0.9699453551912568\n",
      "0.030054644808743168\n"
     ]
    }
   ],
   "source": [
    "\n",
    "y_train_classif = np.zeros_like(y_train, dtype=np.uint8)\n",
    "y_train_classif[y_train <= 1.0] = 0\n",
    "y_train_classif[y_train > 1.0] = 1\n",
    "\n",
    "y_test_classif = np.zeros_like(y_test, dtype=np.uint8)\n",
    "y_test_classif[y_test <= 1.0] = 0\n",
    "y_test_classif[y_test > 1.0] = 1\n",
    "\n",
    "from sklearn.ensemble import RandomForestClassifier\n",
    "\n",
    "model = RandomForestClassifier()\n",
    "model.fit(X_train, y_train_classif)\n",
    "\n",
    "y_test_classif_predicted = model.predict(X_test).squeeze()\n",
    "\n",
    "print(accuracy_score(y_test_classif, y_test_classif_predicted))\n",
    "print(mean_squared_error(y_test_classif, y_test_classif_predicted))"
   ]
  },
  {
   "cell_type": "markdown",
   "metadata": {},
   "source": [
    "perfectly detect points that are not well-represented by the model. so now we filter this points on train and test data before training and assign 0.0 label to these points."
   ]
  },
  {
   "cell_type": "code",
   "execution_count": 631,
   "metadata": {},
   "outputs": [],
   "source": [
    "def split_on_near_zero_label(X, y, threshold=1.0):\n",
    "    \n",
    "    y_classif = np.zeros_like(y, dtype=np.uint8)\n",
    "    y_classif[y <= threshold] = 0\n",
    "    y_classif[y > threshold] = 1\n",
    "\n",
    "    X_wo_leveraged_points = X[y_classif == 1, :]\n",
    "    y_wo_leveraged_points = y[y_classif == 1]\n",
    "\n",
    "    X_leveraged_points = X[y_classif == 0, :]\n",
    "    y_leveraged_points = y[y_classif == 0] \n",
    "    \n",
    "    return X_wo_leveraged_points, y_wo_leveraged_points, X_leveraged_points, y_leveraged_points\n",
    "\n",
    "def combine_on_near_zero_label(X_wo_leveraged_points, y_predicts_wo_leveraged_points, X_leveraged_points, y_predicts_leveraged_points, residuals_wo_leveraged_points=None, residuals_leveraged_points=None):\n",
    "    X = np.vstack((X_wo_leveraged_points, X_leveraged_points))\n",
    "    \n",
    "    y_predicted = np.concatenate([y_predicts_wo_leveraged_points, y_predicts_leveraged_points])\n",
    "\n",
    "    if residuals_wo_leveraged_points is not None:\n",
    "        \n",
    "        residuals = np.concatenate([residuals_wo_leveraged_points, residuals_leveraged_points])\n",
    "        return X, y_predicted, residuals\n",
    "    \n",
    "    else:\n",
    "        return X, y_predicted, _"
   ]
  },
  {
   "cell_type": "code",
   "execution_count": 632,
   "metadata": {},
   "outputs": [
    {
     "data": {
      "image/png": "[encoded data removed]",
      "text/plain": [
       "<Figure size 432x288 with 1 Axes>"
      ]
     },
     "metadata": {},
     "output_type": "display_data"
    }
   ],
   "source": [
    "from sklearn.linear_model import LinearRegression\n",
    "\n",
    "X_train_wo_leveraged_points, y_train_wo_leveraged_points, X_train_leveraged_points, y_train_leveraged_points = split_on_near_zero_label(X_train, y_train)\n",
    "\n",
    "model = LinearRegression()\n",
    "model.fit(X_train_wo_leveraged_points, y_train_wo_leveraged_points)\n",
    "\n",
    "y_train_wo_leveraged_points_predicted = model.predict(X_train_wo_leveraged_points).squeeze()\n",
    "y_train_leveraged_points_predicted = np.zeros_like(y_train_leveraged_points) # zero label for leveraged points\n",
    "\n",
    "sns.scatterplot(x=y_train_wo_leveraged_points, y=y_train_wo_leveraged_points_predicted)\n",
    "sns.scatterplot(x=y_train_leveraged_points, y=y_train_leveraged_points)\n",
    "\n",
    "plt.xlabel('Fitted Y')\n",
    "plt.ylabel('True Y')\n",
    "\n",
    "plt.show()"
   ]
  },
  {
   "cell_type": "code",
   "execution_count": 633,
   "metadata": {},
   "outputs": [
    {
     "data": {
      "image/png": "[encoded data removed]",
      "text/plain": [
       "<Figure size 432x288 with 1 Axes>"
      ]
     },
     "metadata": {},
     "output_type": "display_data"
    }
   ],
   "source": [
    "from sklearn.linear_model import LinearRegression\n",
    "\n",
    "X_train_wo_leveraged_points, y_train_wo_leveraged_points, X_train_leveraged_points, y_train_leveraged_points = split_on_near_zero_label(X_train, y_train)\n",
    "\n",
    "model = LinearRegression()\n",
    "model.fit(X_train_wo_leveraged_points, y_train_wo_leveraged_points)\n",
    "\n",
    "y_train_wo_leveraged_points_predicted = model.predict(X_train_wo_leveraged_points).squeeze()\n",
    "y_train_leveraged_points_predicted = np.zeros_like(y_train_leveraged_points) # zero label for leveraged points\n",
    "\n",
    "residuals_wo_leveraged_points = (y_train_wo_leveraged_points.squeeze() - y_train_wo_leveraged_points_predicted)\n",
    "residuals_leveraged_points = (y_train_leveraged_points.squeeze() - y_train_leveraged_points_predicted)\n",
    "\n",
    "sns.scatterplot(x=y_train_wo_leveraged_points_predicted, y=residuals_wo_leveraged_points)\n",
    "sns.scatterplot(x=y_train_leveraged_points_predicted, y=residuals_leveraged_points)\n",
    "\n",
    "plt.xlabel('Fitted Y')\n",
    "plt.ylabel('Residual')\n",
    "\n",
    "plt.show()\n"
   ]
  },
  {
   "cell_type": "code",
   "execution_count": 634,
   "metadata": {},
   "outputs": [
    {
     "data": {
      "image/png": "[encoded data removed]",
      "text/plain": [
       "<Figure size 432x288 with 1 Axes>"
      ]
     },
     "metadata": {},
     "output_type": "display_data"
    }
   ],
   "source": [
    "from sklearn.linear_model import LinearRegression\n",
    "\n",
    "X_train_wo_leveraged_points, y_train_wo_leveraged_points, X_train_leveraged_points, y_train_leveraged_points = split_on_near_zero_label(X_train, y_train)\n",
    "\n",
    "model = LinearRegression()\n",
    "model.fit(X_train_wo_leveraged_points, y_train_wo_leveraged_points)\n",
    "\n",
    "y_train_wo_leveraged_points_predicted = model.predict(X_train_wo_leveraged_points).squeeze()\n",
    "y_train_leveraged_points_predicted = np.zeros_like(y_train_leveraged_points) # zero label for leveraged points\n",
    "\n",
    "residuals_wo_leveraged_points = (y_train_wo_leveraged_points.squeeze() - y_train_wo_leveraged_points_predicted)\n",
    "residuals_leveraged_points = (y_train_leveraged_points.squeeze() - y_train_leveraged_points_predicted)\n",
    "\n",
    "sns.scatterplot(x=y_train_wo_leveraged_points, y=residuals_wo_leveraged_points)\n",
    "sns.scatterplot(x=y_train_leveraged_points, y=residuals_leveraged_points)\n",
    "\n",
    "plt.xlabel('Y')\n",
    "plt.ylabel('Residual')\n",
    "\n",
    "plt.show()\n"
   ]
  },
  {
   "cell_type": "markdown",
   "metadata": {},
   "source": [
    "## Filter Outliers\n",
    "\n",
    "fitler points that standard residual of intended points is more than threshold (e.g = 3)."
   ]
  },
  {
   "cell_type": "code",
   "execution_count": 635,
   "metadata": {},
   "outputs": [],
   "source": [
    "from sklearn.linear_model import LinearRegression\n",
    "\n",
    "X_train_wo_leveraged_points, y_train_wo_leveraged_points, X_train_leveraged_points, y_train_leveraged_points = split_on_near_zero_label(X_train, y_train)\n",
    "\n",
    "model = LinearRegression()\n",
    "model.fit(X_train_wo_leveraged_points, y_train_wo_leveraged_points)\n",
    "\n",
    "y_train_wo_leveraged_points_predicted = model.predict(X_train_wo_leveraged_points).squeeze()\n",
    "y_train_leveraged_points_predicted = np.zeros_like(y_train_leveraged_points) # zero label for leveraged points\n",
    "\n",
    "residuals_wo_leveraged_points = (y_train_wo_leveraged_points.squeeze() - y_train_wo_leveraged_points_predicted)\n",
    "residuals_leveraged_points = (y_train_leveraged_points.squeeze() - y_train_leveraged_points_predicted)\n",
    "\n",
    "mask = residuals_wo_leveraged_points.abs() <= 3.0\n",
    "\n",
    "X_train_wo_leveraged_points_wo_outlier = X_train_wo_leveraged_points[mask]\n",
    "y_train_wo_leveraged_points_wo_outlier = y_train_wo_leveraged_points[mask]\n",
    "\n",
    "X_train, y_train, _ = combine_on_near_zero_label(X_train_wo_leveraged_points_wo_outlier, y_train_wo_leveraged_points_wo_outlier, X_train_leveraged_points, y_train_leveraged_points)"
   ]
  },
  {
   "cell_type": "code",
   "execution_count": 636,
   "metadata": {},
   "outputs": [
    {
     "data": {
      "text/plain": [
       "(676,)"
      ]
     },
     "execution_count": 636,
     "metadata": {},
     "output_type": "execute_result"
    }
   ],
   "source": [
    "y_train.shape"
   ]
  },
  {
   "cell_type": "code",
   "execution_count": 637,
   "metadata": {},
   "outputs": [
    {
     "data": {
      "image/png": "[encoded data removed]",
      "text/plain": [
       "<Figure size 432x288 with 1 Axes>"
      ]
     },
     "metadata": {},
     "output_type": "display_data"
    }
   ],
   "source": [
    "from sklearn.linear_model import LinearRegression\n",
    "\n",
    "X_train_wo_leveraged_points, y_train_wo_leveraged_points, X_train_leveraged_points, y_train_leveraged_points = split_on_near_zero_label(X_train, y_train)\n",
    "\n",
    "model = LinearRegression()\n",
    "model.fit(X_train_wo_leveraged_points, y_train_wo_leveraged_points)\n",
    "\n",
    "y_train_wo_leveraged_points_predicted = model.predict(X_train_wo_leveraged_points).squeeze()\n",
    "y_train_leveraged_points_predicted = np.zeros_like(y_train_leveraged_points) # zero label for leveraged points\n",
    "\n",
    "residuals_wo_leveraged_points = (y_train_wo_leveraged_points.squeeze() - y_train_wo_leveraged_points_predicted)\n",
    "residuals_leveraged_points = (y_train_leveraged_points.squeeze() - y_train_leveraged_points_predicted)\n",
    "\n",
    "sns.scatterplot(x=y_train_wo_leveraged_points, y=residuals_wo_leveraged_points)\n",
    "sns.scatterplot(x=y_train_leveraged_points, y=residuals_leveraged_points)\n",
    "\n",
    "plt.xlabel('Y')\n",
    "plt.ylabel('Residual')\n",
    "\n",
    "plt.show()\n"
   ]
  },
  {
   "cell_type": "markdown",
   "metadata": {},
   "source": [
    "# Model Fitting"
   ]
  },
  {
   "cell_type": "markdown",
   "metadata": {},
   "source": [
    "## Linear Models "
   ]
  },
  {
   "cell_type": "markdown",
   "metadata": {},
   "source": [
    "### Linear Regression"
   ]
  },
  {
   "cell_type": "markdown",
   "metadata": {},
   "source": [
    "#### Result with classification heuristic "
   ]
  },
  {
   "cell_type": "code",
   "execution_count": 638,
   "metadata": {},
   "outputs": [
    {
     "name": "stdout",
     "output_type": "stream",
     "text": [
      "0.9519524336002259\n",
      "0.7388498776998443\n"
     ]
    }
   ],
   "source": [
    "X_train_wo_leveraged_points, y_train_wo_leveraged_points, X_train_leveraged_points, y_train_leveraged_points = split_on_near_zero_label(X_train, y_train)\n",
    "X_test_wo_leveraged_points, y_test_wo_leveraged_points, X_test_leveraged_points, y_test_leveraged_points = split_on_near_zero_label(X_test, y_test)\n",
    "\n",
    "# FIT\n",
    "model = LinearRegression()\n",
    "model.fit(X_train_wo_leveraged_points, y_train_wo_leveraged_points)\n",
    "y_test_wo_leveraged_points_predicted = model.predict(X_test_wo_leveraged_points)\n",
    "\n",
    "y_test_leveraged_points_predicted = np.zeros_like(y_test_leveraged_points) # zero label for leveraged points\n",
    "\n",
    "y_test_predicted_aggregated = np.concatenate([y_test_wo_leveraged_points_predicted, y_test_leveraged_points_predicted])\n",
    "y_test_aggregated = np.concatenate([y_test_wo_leveraged_points, y_test_leveraged_points])\n",
    "\n",
    "print(r2_score(y_test_aggregated, y_test_predicted_aggregated))\n",
    "print(mean_squared_error(y_test_aggregated, y_test_predicted_aggregated))"
   ]
  },
  {
   "cell_type": "markdown",
   "metadata": {},
   "source": [
    "#### Result without classification heuristic "
   ]
  },
  {
   "cell_type": "code",
   "execution_count": 639,
   "metadata": {},
   "outputs": [
    {
     "name": "stdout",
     "output_type": "stream",
     "text": [
      "0.8114103984412017\n",
      "2.9000304175204916\n"
     ]
    }
   ],
   "source": [
    "model = LinearRegression()\n",
    "model.fit(X_train, y_train)\n",
    "y_test_predicted = model.predict(X_test)\n",
    "\n",
    "print(r2_score(y_test, y_test_predicted))\n",
    "print(mean_squared_error(y_test, y_test_predicted))"
   ]
  },
  {
   "cell_type": "markdown",
   "metadata": {},
   "source": [
    "### Lasso Regression\n",
    "\n",
    "$$\n",
    "\\mathbf{\n",
    "    J(w) = \\frac{1}{2n} || y - Xw ||^2_2 + \\alpha || w ||_1       \n",
    "}\n",
    "$$\n",
    "\n",
    "cross-validation on $\\alpha$ parameter"
   ]
  },
  {
   "cell_type": "markdown",
   "metadata": {},
   "source": [
    "#### Result with classification heuristic "
   ]
  },
  {
   "cell_type": "code",
   "execution_count": 640,
   "metadata": {},
   "outputs": [
    {
     "name": "stdout",
     "output_type": "stream",
     "text": [
      "0.9479108899506055\n",
      "0.8009985827225962\n"
     ]
    }
   ],
   "source": [
    "X_train_wo_leveraged_points, y_train_wo_leveraged_points, X_train_leveraged_points, y_train_leveraged_points = split_on_near_zero_label(X_train, y_train)\n",
    "X_test_wo_leveraged_points, y_test_wo_leveraged_points, X_test_leveraged_points, y_test_leveraged_points = split_on_near_zero_label(X_test, y_test)\n",
    "\n",
    "# FIT\n",
    "model = LassoCV(alphas=[1e-2, 1e-1, 1e0, 1e1, 1e2], cv=5)\n",
    "model.fit(X_train_wo_leveraged_points, y_train_wo_leveraged_points)\n",
    "y_test_wo_leveraged_points_predicted = model.predict(X_test_wo_leveraged_points)\n",
    "\n",
    "y_test_leveraged_points_predicted = np.zeros_like(y_test_leveraged_points) # zero label for leveraged points\n",
    "\n",
    "y_test_predicted_aggregated = np.concatenate([y_test_wo_leveraged_points_predicted, y_test_leveraged_points_predicted])\n",
    "y_test_aggregated = np.concatenate([y_test_wo_leveraged_points, y_test_leveraged_points])\n",
    "\n",
    "print(r2_score(y_test_aggregated, y_test_predicted_aggregated))\n",
    "print(mean_squared_error(y_test_aggregated, y_test_predicted_aggregated))"
   ]
  },
  {
   "cell_type": "markdown",
   "metadata": {},
   "source": [
    "#### Result without classification heuristic "
   ]
  },
  {
   "cell_type": "code",
   "execution_count": 641,
   "metadata": {},
   "outputs": [
    {
     "name": "stdout",
     "output_type": "stream",
     "text": [
      "0.8107217869868135\n",
      "2.9106195175932017\n"
     ]
    }
   ],
   "source": [
    "model = LassoCV(alphas=[1e-2, 1e-1, 1e0, 1e1, 1e2], cv=5)\n",
    "model.fit(X_train, y_train)\n",
    "y_test_predicted = model.predict(X_test)\n",
    "\n",
    "print(r2_score(y_test, y_test_predicted))\n",
    "print(mean_squared_error(y_test, y_test_predicted))"
   ]
  },
  {
   "cell_type": "markdown",
   "metadata": {},
   "source": [
    "### Ridge Regression"
   ]
  },
  {
   "cell_type": "markdown",
   "metadata": {},
   "source": [
    "#### Result with classification heuristic "
   ]
  },
  {
   "cell_type": "code",
   "execution_count": 642,
   "metadata": {},
   "outputs": [
    {
     "name": "stdout",
     "output_type": "stream",
     "text": [
      "0.9518180835868577\n",
      "0.7409158406275012\n"
     ]
    }
   ],
   "source": [
    "X_train_wo_leveraged_points, y_train_wo_leveraged_points, X_train_leveraged_points, y_train_leveraged_points = split_on_near_zero_label(X_train, y_train)\n",
    "X_test_wo_leveraged_points, y_test_wo_leveraged_points, X_test_leveraged_points, y_test_leveraged_points = split_on_near_zero_label(X_test, y_test)\n",
    "\n",
    "# FIT\n",
    "model = RidgeCV(alphas=[1e-2, 1e-1, 1e0, 1e1, 1e2], cv=5)\n",
    "model.fit(X_train_wo_leveraged_points, y_train_wo_leveraged_points)\n",
    "y_test_wo_leveraged_points_predicted = model.predict(X_test_wo_leveraged_points)\n",
    "\n",
    "y_test_leveraged_points_predicted = np.zeros_like(y_test_leveraged_points) # zero label for leveraged points\n",
    "\n",
    "y_test_predicted_aggregated = np.concatenate([y_test_wo_leveraged_points_predicted, y_test_leveraged_points_predicted])\n",
    "y_test_aggregated = np.concatenate([y_test_wo_leveraged_points, y_test_leveraged_points])\n",
    "\n",
    "print(r2_score(y_test_aggregated, y_test_predicted_aggregated))\n",
    "print(mean_squared_error(y_test_aggregated, y_test_predicted_aggregated))"
   ]
  },
  {
   "cell_type": "markdown",
   "metadata": {},
   "source": [
    "#### Result without classification heuristic "
   ]
  },
  {
   "cell_type": "code",
   "execution_count": 643,
   "metadata": {},
   "outputs": [
    {
     "name": "stdout",
     "output_type": "stream",
     "text": [
      "0.8104013548355987\n",
      "2.9155469524973188\n"
     ]
    }
   ],
   "source": [
    "model = RidgeCV(alphas=[1e-2, 1e-1, 1e0, 1e1, 1e2], cv=5)\n",
    "model.fit(X_train, y_train)\n",
    "y_test_predicted = model.predict(X_test)\n",
    "\n",
    "print(r2_score(y_test, y_test_predicted))\n",
    "print(mean_squared_error(y_test, y_test_predicted))"
   ]
  },
  {
   "cell_type": "markdown",
   "metadata": {},
   "source": [
    "### RANSAC"
   ]
  },
  {
   "cell_type": "markdown",
   "metadata": {},
   "source": [
    "#### Result with classification heuristic "
   ]
  },
  {
   "cell_type": "code",
   "execution_count": 644,
   "metadata": {},
   "outputs": [
    {
     "name": "stdout",
     "output_type": "stream",
     "text": [
      "0.9531758830255921\n",
      "0.7200363242561049\n"
     ]
    }
   ],
   "source": [
    "X_train_wo_leveraged_points, y_train_wo_leveraged_points, X_train_leveraged_points, y_train_leveraged_points = split_on_near_zero_label(X_train, y_train)\n",
    "X_test_wo_leveraged_points, y_test_wo_leveraged_points, X_test_leveraged_points, y_test_leveraged_points = split_on_near_zero_label(X_test, y_test)\n",
    "\n",
    "# FIT\n",
    "model = RANSACRegressor()\n",
    "model.fit(X_train_wo_leveraged_points, y_train_wo_leveraged_points)\n",
    "y_test_wo_leveraged_points_predicted = model.predict(X_test_wo_leveraged_points)\n",
    "\n",
    "y_test_leveraged_points_predicted = np.zeros_like(y_test_leveraged_points) # zero label for leveraged points\n",
    "\n",
    "y_test_predicted_aggregated = np.concatenate([y_test_wo_leveraged_points_predicted, y_test_leveraged_points_predicted])\n",
    "y_test_aggregated = np.concatenate([y_test_wo_leveraged_points, y_test_leveraged_points])\n",
    "\n",
    "print(r2_score(y_test_aggregated, y_test_predicted_aggregated))\n",
    "print(mean_squared_error(y_test_aggregated, y_test_predicted_aggregated))"
   ]
  },
  {
   "cell_type": "markdown",
   "metadata": {},
   "source": [
    "#### Result without classification heuristic "
   ]
  },
  {
   "cell_type": "code",
   "execution_count": 645,
   "metadata": {},
   "outputs": [
    {
     "name": "stdout",
     "output_type": "stream",
     "text": [
      "0.7931080626254279\n",
      "3.1814739867242277\n"
     ]
    }
   ],
   "source": [
    "model = RANSACRegressor()\n",
    "model.fit(X_train, y_train)\n",
    "y_test_predicted = model.predict(X_test)\n",
    "\n",
    "print(r2_score(y_test, y_test_predicted))\n",
    "print(mean_squared_error(y_test, y_test_predicted))"
   ]
  },
  {
   "cell_type": "markdown",
   "metadata": {},
   "source": [
    "## Support Vector Machines"
   ]
  },
  {
   "cell_type": "markdown",
   "metadata": {},
   "source": [
    "### SVR"
   ]
  },
  {
   "cell_type": "markdown",
   "metadata": {},
   "source": [
    "#### Result with classification heuristic "
   ]
  },
  {
   "cell_type": "code",
   "execution_count": 646,
   "metadata": {},
   "outputs": [
    {
     "name": "stdout",
     "output_type": "stream",
     "text": [
      "Fitting 5 folds for each of 15 candidates, totalling 75 fits\n",
      "{'C': 1000, 'gamma': 0.001, 'kernel': 'rbf'}\n",
      "0.945229464185003\n",
      "0.8422321195575833\n"
     ]
    }
   ],
   "source": [
    "X_train_wo_leveraged_points, y_train_wo_leveraged_points, X_train_leveraged_points, y_train_leveraged_points = split_on_near_zero_label(X_train, y_train)\n",
    "X_test_wo_leveraged_points, y_test_wo_leveraged_points, X_test_leveraged_points, y_test_leveraged_points = split_on_near_zero_label(X_test, y_test)\n",
    "\n",
    "# FIT\n",
    "param_grid = {'C': [10, 100, 1000],\n",
    "              'gamma': [\"scale\", \"auto\", 10, 0.1, 0.001],\n",
    "              'kernel': ['rbf']}\n",
    " \n",
    "grid = GridSearchCV(SVR(), param_grid, refit=True, verbose=1)\n",
    " \n",
    "grid.fit(X_train_wo_leveraged_points, y_train_wo_leveraged_points)\n",
    "\n",
    "# print best parameter after tuning\n",
    "print(grid.best_params_)\n",
    " \n",
    "# how our model looks after hyper-parameter tuning\n",
    "model = grid.best_estimator_\n",
    "\n",
    "model.fit(X_train_wo_leveraged_points, y_train_wo_leveraged_points)\n",
    "y_test_wo_leveraged_points_predicted = model.predict(X_test_wo_leveraged_points)\n",
    "\n",
    "y_test_leveraged_points_predicted = np.zeros_like(y_test_leveraged_points) # zero label for leveraged points\n",
    "\n",
    "y_test_predicted_aggregated = np.concatenate([y_test_wo_leveraged_points_predicted, y_test_leveraged_points_predicted])\n",
    "y_test_aggregated = np.concatenate([y_test_wo_leveraged_points, y_test_leveraged_points])\n",
    "\n",
    "print(r2_score(y_test_aggregated, y_test_predicted_aggregated))\n",
    "print(mean_squared_error(y_test_aggregated, y_test_predicted_aggregated))"
   ]
  },
  {
   "cell_type": "markdown",
   "metadata": {},
   "source": [
    "#### Result without classification heuristic "
   ]
  },
  {
   "cell_type": "code",
   "execution_count": 647,
   "metadata": {},
   "outputs": [
    {
     "name": "stdout",
     "output_type": "stream",
     "text": [
      "Fitting 5 folds for each of 15 candidates, totalling 75 fits\n",
      "{'C': 1000, 'gamma': 0.001, 'kernel': 'rbf'}\n",
      "0.792630527043658\n",
      "3.1888172744831196\n"
     ]
    }
   ],
   "source": [
    "param_grid = {'C': [10, 100, 1000],\n",
    "              'gamma': [\"scale\", \"auto\", 10, 0.1, 0.001],\n",
    "              'kernel': ['rbf']}\n",
    " \n",
    "grid = GridSearchCV(SVR(), param_grid, refit=True, verbose=1)\n",
    " \n",
    "grid.fit(X_train, y_train)\n",
    "\n",
    "# print best parameter after tuning\n",
    "print(grid.best_params_)\n",
    " \n",
    "# how our model looks after hyper-parameter tuning\n",
    "model = grid.best_estimator_\n",
    "\n",
    "model.fit(X_train, y_train)\n",
    "y_test_predicted = model.predict(X_test)\n",
    "\n",
    "print(r2_score(y_test, y_test_predicted))\n",
    "print(mean_squared_error(y_test, y_test_predicted))"
   ]
  },
  {
   "cell_type": "markdown",
   "metadata": {},
   "source": [
    "## Ensemble Methods"
   ]
  },
  {
   "cell_type": "markdown",
   "metadata": {},
   "source": [
    "### Random Forests"
   ]
  },
  {
   "cell_type": "markdown",
   "metadata": {},
   "source": [
    "#### Result with classification heuristic "
   ]
  },
  {
   "cell_type": "code",
   "execution_count": 648,
   "metadata": {},
   "outputs": [
    {
     "name": "stdout",
     "output_type": "stream",
     "text": [
      "Fitting 5 folds for each of 30 candidates, totalling 150 fits\n",
      "{'max_depth': 5, 'n_estimators': 500}\n",
      "0.9493549863770975\n",
      "0.7787920372500782\n"
     ]
    }
   ],
   "source": [
    "X_train_wo_leveraged_points, y_train_wo_leveraged_points, X_train_leveraged_points, y_train_leveraged_points = split_on_near_zero_label(X_train, y_train)\n",
    "X_test_wo_leveraged_points, y_test_wo_leveraged_points, X_test_leveraged_points, y_test_leveraged_points = split_on_near_zero_label(X_test, y_test)\n",
    "\n",
    "# FIT\n",
    "param_grid = {'n_estimators': [25, 50, 100, 200, 500],\n",
    "              'max_depth': [None,1, 2, 3, 5, 10],\n",
    "              }\n",
    " \n",
    "grid = GridSearchCV(RandomForestRegressor(), param_grid, refit=True, verbose=1)\n",
    " \n",
    "grid.fit(X_train_wo_leveraged_points, y_train_wo_leveraged_points)\n",
    "\n",
    "# print best parameter after tuning\n",
    "print(grid.best_params_)\n",
    " \n",
    "# how our model looks after hyper-parameter tuning\n",
    "model = grid.best_estimator_\n",
    "\n",
    "model.fit(X_train_wo_leveraged_points, y_train_wo_leveraged_points)\n",
    "y_test_wo_leveraged_points_predicted = model.predict(X_test_wo_leveraged_points)\n",
    "\n",
    "y_test_leveraged_points_predicted = np.zeros_like(y_test_leveraged_points) # zero label for leveraged points\n",
    "\n",
    "y_test_predicted_aggregated = np.concatenate([y_test_wo_leveraged_points_predicted, y_test_leveraged_points_predicted])\n",
    "y_test_aggregated = np.concatenate([y_test_wo_leveraged_points, y_test_leveraged_points])\n",
    "\n",
    "print(r2_score(y_test_aggregated, y_test_predicted_aggregated))\n",
    "print(mean_squared_error(y_test_aggregated, y_test_predicted_aggregated))"
   ]
  },
  {
   "cell_type": "markdown",
   "metadata": {},
   "source": [
    "#### Result without classification heuristic "
   ]
  },
  {
   "cell_type": "code",
   "execution_count": 649,
   "metadata": {},
   "outputs": [
    {
     "name": "stdout",
     "output_type": "stream",
     "text": [
      "Fitting 5 folds for each of 20 candidates, totalling 100 fits\n",
      "{'max_depth': 3, 'n_estimators': 25}\n",
      "0.8117353428857985\n",
      "2.8950335949727677\n"
     ]
    }
   ],
   "source": [
    "param_grid = {'n_estimators': [25, 50, 100, 500],\n",
    "              'max_depth': [None,1, 2, 3, 5],\n",
    "              }\n",
    " \n",
    "grid = GridSearchCV(RandomForestRegressor(), param_grid, refit=True, verbose=1)\n",
    " \n",
    "grid.fit(X_train, y_train)\n",
    "\n",
    "# print best parameter after tuning\n",
    "print(grid.best_params_)\n",
    " \n",
    "# how our model looks after hyper-parameter tuning\n",
    "model = grid.best_estimator_\n",
    "\n",
    "model.fit(X_train, y_train)\n",
    "y_test_predicted = model.predict(X_test)\n",
    "\n",
    "print(r2_score(y_test, y_test_predicted))\n",
    "print(mean_squared_error(y_test, y_test_predicted))\n"
   ]
  }
 ],
 "metadata": {
  "interpreter": {
   "hash": "34daa296ffe99e8a66e159d01b1dfeb9a87967b5cca691fda43c054f03617153"
  },
  "kernelspec": {
   "display_name": "Python 3.10.4 ('data_env')",
   "language": "python",
   "name": "python3"
  },
  "language_info": {
   "codemirror_mode": {
    "name": "ipython",
    "version": 3
   },
   "file_extension": ".py",
   "mimetype": "text/x-python",
   "name": "python",
   "nbconvert_exporter": "python",
   "pygments_lexer": "ipython3",
   "version": "3.10.4"
  },
  "orig_nbformat": 4
 },
 "nbformat": 4,
 "nbformat_minor": 2
}
